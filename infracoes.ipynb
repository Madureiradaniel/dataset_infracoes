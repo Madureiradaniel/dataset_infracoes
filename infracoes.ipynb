{
 "cells": [
  {
   "cell_type": "code",
   "execution_count": 2,
   "metadata": {},
   "outputs": [],
   "source": [
    "''' INFRAÇOES DE TRANSITO DF - ABRIL/2020 '''\n",
    "'''http://www.dados.gov.br/dataset/infracoes-transito/resource/3b8aee2a-2615-4de9-8706-c89322e67c2a'''\n",
    "'''http://www.dados.gov.br/dataset/infracoes-transito'''\n",
    "\n",
    "import pandas as pd\n",
    "import matplotlib.pyplot as plt\n",
    "import seaborn as sns\n",
    "import plotly.express as px"
   ]
  },
  {
   "cell_type": "code",
   "execution_count": 3,
   "metadata": {},
   "outputs": [],
   "source": [
    "df_infracoes_abril = pd.read_csv('infracoes_abril.csv', sep=';', low_memory=False)\n",
    "df_infracoes_abril_2019 = pd.read_csv('infracoes_abril2019.csv', sep=';', low_memory=False)\n",
    "\n"
   ]
  },
  {
   "cell_type": "code",
   "execution_count": 4,
   "metadata": {},
   "outputs": [
    {
     "output_type": "display_data",
     "data": {
      "text/plain": "<Figure size 864x720 with 1 Axes>",
      "image/svg+xml": "<?xml version=\"1.0\" encoding=\"utf-8\" standalone=\"no\"?>\n<!DOCTYPE svg PUBLIC \"-//W3C//DTD SVG 1.1//EN\"\n  \"http://www.w3.org/Graphics/SVG/1.1/DTD/svg11.dtd\">\n<!-- Created with matplotlib (https://matplotlib.org/) -->\n<svg height=\"623.845pt\" version=\"1.1\" viewBox=\"0 0 758.101732 623.845\" width=\"758.101732pt\" xmlns=\"http://www.w3.org/2000/svg\" xmlns:xlink=\"http://www.w3.org/1999/xlink\">\n <defs>\n  <style type=\"text/css\">\n*{stroke-linecap:butt;stroke-linejoin:round;}\n  </style>\n </defs>\n <g id=\"figure_1\">\n  <g id=\"patch_1\">\n   <path d=\"M 0 623.845 \nL 758.101732 623.845 \nL 758.101732 0 \nL 0 0 \nz\n\" style=\"fill:none;\"/>\n  </g>\n  <g id=\"axes_1\">\n   <g id=\"patch_2\">\n    <path d=\"M 80.5675 568.675 \nL 750.1675 568.675 \nL 750.1675 25.075 \nL 80.5675 25.075 \nz\n\" style=\"fill:#ffffff;\"/>\n   </g>\n   <g id=\"matplotlib.axis_1\">\n    <g id=\"xtick_1\">\n     <g id=\"line2d_1\">\n      <path clip-path=\"url(#p51d0c9c017)\" d=\"M 111.003864 568.675 \nL 111.003864 25.075 \n\" style=\"fill:none;stroke:#b0b0b0;stroke-linecap:square;stroke-width:0.8;\"/>\n     </g>\n     <g id=\"line2d_2\">\n      <defs>\n       <path d=\"M 0 0 \nL 0 3.5 \n\" id=\"m9ca6cf055a\" style=\"stroke:#000000;stroke-width:0.8;\"/>\n      </defs>\n      <g>\n       <use style=\"stroke:#000000;stroke-width:0.8;\" x=\"111.003864\" xlink:href=\"#m9ca6cf055a\" y=\"568.675\"/>\n      </g>\n     </g>\n     <g id=\"text_1\">\n      <!-- 0 -->\n      <defs>\n       <path d=\"M 31.78125 66.40625 \nQ 24.171875 66.40625 20.328125 58.90625 \nQ 16.5 51.421875 16.5 36.375 \nQ 16.5 21.390625 20.328125 13.890625 \nQ 24.171875 6.390625 31.78125 6.390625 \nQ 39.453125 6.390625 43.28125 13.890625 \nQ 47.125 21.390625 47.125 36.375 \nQ 47.125 51.421875 43.28125 58.90625 \nQ 39.453125 66.40625 31.78125 66.40625 \nz\nM 31.78125 74.21875 \nQ 44.046875 74.21875 50.515625 64.515625 \nQ 56.984375 54.828125 56.984375 36.375 \nQ 56.984375 17.96875 50.515625 8.265625 \nQ 44.046875 -1.421875 31.78125 -1.421875 \nQ 19.53125 -1.421875 13.0625 8.265625 \nQ 6.59375 17.96875 6.59375 36.375 \nQ 6.59375 54.828125 13.0625 64.515625 \nQ 19.53125 74.21875 31.78125 74.21875 \nz\n\" id=\"DejaVuSans-48\"/>\n      </defs>\n      <g transform=\"translate(105.913864 587.8325)scale(0.16 -0.16)\">\n       <use xlink:href=\"#DejaVuSans-48\"/>\n      </g>\n     </g>\n    </g>\n    <g id=\"xtick_2\">\n     <g id=\"line2d_3\">\n      <path clip-path=\"url(#p51d0c9c017)\" d=\"M 215.956842 568.675 \nL 215.956842 25.075 \n\" style=\"fill:none;stroke:#b0b0b0;stroke-linecap:square;stroke-width:0.8;\"/>\n     </g>\n     <g id=\"line2d_4\">\n      <g>\n       <use style=\"stroke:#000000;stroke-width:0.8;\" x=\"215.956842\" xlink:href=\"#m9ca6cf055a\" y=\"568.675\"/>\n      </g>\n     </g>\n     <g id=\"text_2\">\n      <!-- 5 -->\n      <defs>\n       <path d=\"M 10.796875 72.90625 \nL 49.515625 72.90625 \nL 49.515625 64.59375 \nL 19.828125 64.59375 \nL 19.828125 46.734375 \nQ 21.96875 47.46875 24.109375 47.828125 \nQ 26.265625 48.1875 28.421875 48.1875 \nQ 40.625 48.1875 47.75 41.5 \nQ 54.890625 34.8125 54.890625 23.390625 \nQ 54.890625 11.625 47.5625 5.09375 \nQ 40.234375 -1.421875 26.90625 -1.421875 \nQ 22.3125 -1.421875 17.546875 -0.640625 \nQ 12.796875 0.140625 7.71875 1.703125 \nL 7.71875 11.625 \nQ 12.109375 9.234375 16.796875 8.0625 \nQ 21.484375 6.890625 26.703125 6.890625 \nQ 35.15625 6.890625 40.078125 11.328125 \nQ 45.015625 15.765625 45.015625 23.390625 \nQ 45.015625 31 40.078125 35.4375 \nQ 35.15625 39.890625 26.703125 39.890625 \nQ 22.75 39.890625 18.8125 39.015625 \nQ 14.890625 38.140625 10.796875 36.28125 \nz\n\" id=\"DejaVuSans-53\"/>\n      </defs>\n      <g transform=\"translate(210.866842 587.8325)scale(0.16 -0.16)\">\n       <use xlink:href=\"#DejaVuSans-53\"/>\n      </g>\n     </g>\n    </g>\n    <g id=\"xtick_3\">\n     <g id=\"line2d_5\">\n      <path clip-path=\"url(#p51d0c9c017)\" d=\"M 320.90982 568.675 \nL 320.90982 25.075 \n\" style=\"fill:none;stroke:#b0b0b0;stroke-linecap:square;stroke-width:0.8;\"/>\n     </g>\n     <g id=\"line2d_6\">\n      <g>\n       <use style=\"stroke:#000000;stroke-width:0.8;\" x=\"320.90982\" xlink:href=\"#m9ca6cf055a\" y=\"568.675\"/>\n      </g>\n     </g>\n     <g id=\"text_3\">\n      <!-- 10 -->\n      <defs>\n       <path d=\"M 12.40625 8.296875 \nL 28.515625 8.296875 \nL 28.515625 63.921875 \nL 10.984375 60.40625 \nL 10.984375 69.390625 \nL 28.421875 72.90625 \nL 38.28125 72.90625 \nL 38.28125 8.296875 \nL 54.390625 8.296875 \nL 54.390625 0 \nL 12.40625 0 \nz\n\" id=\"DejaVuSans-49\"/>\n      </defs>\n      <g transform=\"translate(310.72982 587.8325)scale(0.16 -0.16)\">\n       <use xlink:href=\"#DejaVuSans-49\"/>\n       <use x=\"63.623047\" xlink:href=\"#DejaVuSans-48\"/>\n      </g>\n     </g>\n    </g>\n    <g id=\"xtick_4\">\n     <g id=\"line2d_7\">\n      <path clip-path=\"url(#p51d0c9c017)\" d=\"M 425.862798 568.675 \nL 425.862798 25.075 \n\" style=\"fill:none;stroke:#b0b0b0;stroke-linecap:square;stroke-width:0.8;\"/>\n     </g>\n     <g id=\"line2d_8\">\n      <g>\n       <use style=\"stroke:#000000;stroke-width:0.8;\" x=\"425.862798\" xlink:href=\"#m9ca6cf055a\" y=\"568.675\"/>\n      </g>\n     </g>\n     <g id=\"text_4\">\n      <!-- 15 -->\n      <g transform=\"translate(415.682798 587.8325)scale(0.16 -0.16)\">\n       <use xlink:href=\"#DejaVuSans-49\"/>\n       <use x=\"63.623047\" xlink:href=\"#DejaVuSans-53\"/>\n      </g>\n     </g>\n    </g>\n    <g id=\"xtick_5\">\n     <g id=\"line2d_9\">\n      <path clip-path=\"url(#p51d0c9c017)\" d=\"M 530.815776 568.675 \nL 530.815776 25.075 \n\" style=\"fill:none;stroke:#b0b0b0;stroke-linecap:square;stroke-width:0.8;\"/>\n     </g>\n     <g id=\"line2d_10\">\n      <g>\n       <use style=\"stroke:#000000;stroke-width:0.8;\" x=\"530.815776\" xlink:href=\"#m9ca6cf055a\" y=\"568.675\"/>\n      </g>\n     </g>\n     <g id=\"text_5\">\n      <!-- 20 -->\n      <defs>\n       <path d=\"M 19.1875 8.296875 \nL 53.609375 8.296875 \nL 53.609375 0 \nL 7.328125 0 \nL 7.328125 8.296875 \nQ 12.9375 14.109375 22.625 23.890625 \nQ 32.328125 33.6875 34.8125 36.53125 \nQ 39.546875 41.84375 41.421875 45.53125 \nQ 43.3125 49.21875 43.3125 52.78125 \nQ 43.3125 58.59375 39.234375 62.25 \nQ 35.15625 65.921875 28.609375 65.921875 \nQ 23.96875 65.921875 18.8125 64.3125 \nQ 13.671875 62.703125 7.8125 59.421875 \nL 7.8125 69.390625 \nQ 13.765625 71.78125 18.9375 73 \nQ 24.125 74.21875 28.421875 74.21875 \nQ 39.75 74.21875 46.484375 68.546875 \nQ 53.21875 62.890625 53.21875 53.421875 \nQ 53.21875 48.921875 51.53125 44.890625 \nQ 49.859375 40.875 45.40625 35.40625 \nQ 44.1875 33.984375 37.640625 27.21875 \nQ 31.109375 20.453125 19.1875 8.296875 \nz\n\" id=\"DejaVuSans-50\"/>\n      </defs>\n      <g transform=\"translate(520.635776 587.8325)scale(0.16 -0.16)\">\n       <use xlink:href=\"#DejaVuSans-50\"/>\n       <use x=\"63.623047\" xlink:href=\"#DejaVuSans-48\"/>\n      </g>\n     </g>\n    </g>\n    <g id=\"xtick_6\">\n     <g id=\"line2d_11\">\n      <path clip-path=\"url(#p51d0c9c017)\" d=\"M 635.768754 568.675 \nL 635.768754 25.075 \n\" style=\"fill:none;stroke:#b0b0b0;stroke-linecap:square;stroke-width:0.8;\"/>\n     </g>\n     <g id=\"line2d_12\">\n      <g>\n       <use style=\"stroke:#000000;stroke-width:0.8;\" x=\"635.768754\" xlink:href=\"#m9ca6cf055a\" y=\"568.675\"/>\n      </g>\n     </g>\n     <g id=\"text_6\">\n      <!-- 25 -->\n      <g transform=\"translate(625.588754 587.8325)scale(0.16 -0.16)\">\n       <use xlink:href=\"#DejaVuSans-50\"/>\n       <use x=\"63.623047\" xlink:href=\"#DejaVuSans-53\"/>\n      </g>\n     </g>\n    </g>\n    <g id=\"xtick_7\">\n     <g id=\"line2d_13\">\n      <path clip-path=\"url(#p51d0c9c017)\" d=\"M 740.721732 568.675 \nL 740.721732 25.075 \n\" style=\"fill:none;stroke:#b0b0b0;stroke-linecap:square;stroke-width:0.8;\"/>\n     </g>\n     <g id=\"line2d_14\">\n      <g>\n       <use style=\"stroke:#000000;stroke-width:0.8;\" x=\"740.721732\" xlink:href=\"#m9ca6cf055a\" y=\"568.675\"/>\n      </g>\n     </g>\n     <g id=\"text_7\">\n      <!-- 30 -->\n      <defs>\n       <path d=\"M 40.578125 39.3125 \nQ 47.65625 37.796875 51.625 33 \nQ 55.609375 28.21875 55.609375 21.1875 \nQ 55.609375 10.40625 48.1875 4.484375 \nQ 40.765625 -1.421875 27.09375 -1.421875 \nQ 22.515625 -1.421875 17.65625 -0.515625 \nQ 12.796875 0.390625 7.625 2.203125 \nL 7.625 11.71875 \nQ 11.71875 9.328125 16.59375 8.109375 \nQ 21.484375 6.890625 26.8125 6.890625 \nQ 36.078125 6.890625 40.9375 10.546875 \nQ 45.796875 14.203125 45.796875 21.1875 \nQ 45.796875 27.640625 41.28125 31.265625 \nQ 36.765625 34.90625 28.71875 34.90625 \nL 20.21875 34.90625 \nL 20.21875 43.015625 \nL 29.109375 43.015625 \nQ 36.375 43.015625 40.234375 45.921875 \nQ 44.09375 48.828125 44.09375 54.296875 \nQ 44.09375 59.90625 40.109375 62.90625 \nQ 36.140625 65.921875 28.71875 65.921875 \nQ 24.65625 65.921875 20.015625 65.03125 \nQ 15.375 64.15625 9.8125 62.3125 \nL 9.8125 71.09375 \nQ 15.4375 72.65625 20.34375 73.4375 \nQ 25.25 74.21875 29.59375 74.21875 \nQ 40.828125 74.21875 47.359375 69.109375 \nQ 53.90625 64.015625 53.90625 55.328125 \nQ 53.90625 49.265625 50.4375 45.09375 \nQ 46.96875 40.921875 40.578125 39.3125 \nz\n\" id=\"DejaVuSans-51\"/>\n      </defs>\n      <g transform=\"translate(730.541732 587.8325)scale(0.16 -0.16)\">\n       <use xlink:href=\"#DejaVuSans-51\"/>\n       <use x=\"63.623047\" xlink:href=\"#DejaVuSans-48\"/>\n      </g>\n     </g>\n    </g>\n    <g id=\"text_8\">\n     <!-- DIA -->\n     <defs>\n      <path d=\"M 19.671875 64.796875 \nL 19.671875 8.109375 \nL 31.59375 8.109375 \nQ 46.6875 8.109375 53.6875 14.9375 \nQ 60.6875 21.78125 60.6875 36.53125 \nQ 60.6875 51.171875 53.6875 57.984375 \nQ 46.6875 64.796875 31.59375 64.796875 \nz\nM 9.8125 72.90625 \nL 30.078125 72.90625 \nQ 51.265625 72.90625 61.171875 64.09375 \nQ 71.09375 55.28125 71.09375 36.53125 \nQ 71.09375 17.671875 61.125 8.828125 \nQ 51.171875 0 30.078125 0 \nL 9.8125 0 \nz\n\" id=\"DejaVuSans-68\"/>\n      <path d=\"M 9.8125 72.90625 \nL 19.671875 72.90625 \nL 19.671875 0 \nL 9.8125 0 \nz\n\" id=\"DejaVuSans-73\"/>\n      <path d=\"M 34.1875 63.1875 \nL 20.796875 26.90625 \nL 47.609375 26.90625 \nz\nM 28.609375 72.90625 \nL 39.796875 72.90625 \nL 67.578125 0 \nL 57.328125 0 \nL 50.6875 18.703125 \nL 17.828125 18.703125 \nL 11.1875 0 \nL 0.78125 0 \nz\n\" id=\"DejaVuSans-65\"/>\n     </defs>\n     <g transform=\"translate(401.375 613.3175)scale(0.16 -0.16)\">\n      <use xlink:href=\"#DejaVuSans-68\"/>\n      <use x=\"77.001953\" xlink:href=\"#DejaVuSans-73\"/>\n      <use x=\"106.494141\" xlink:href=\"#DejaVuSans-65\"/>\n     </g>\n    </g>\n   </g>\n   <g id=\"matplotlib.axis_2\">\n    <g id=\"ytick_1\">\n     <g id=\"line2d_15\">\n      <path clip-path=\"url(#p51d0c9c017)\" d=\"M 80.5675 568.542551 \nL 750.1675 568.542551 \n\" style=\"fill:none;stroke:#b0b0b0;stroke-linecap:square;stroke-width:0.8;\"/>\n     </g>\n     <g id=\"line2d_16\">\n      <defs>\n       <path d=\"M 0 0 \nL -3.5 0 \n\" id=\"mffba5d04f7\" style=\"stroke:#000000;stroke-width:0.8;\"/>\n      </defs>\n      <g>\n       <use style=\"stroke:#000000;stroke-width:0.8;\" x=\"80.5675\" xlink:href=\"#mffba5d04f7\" y=\"568.542551\"/>\n      </g>\n     </g>\n     <g id=\"text_9\">\n      <!-- 0 -->\n      <g transform=\"translate(63.3875 574.621301)scale(0.16 -0.16)\">\n       <use xlink:href=\"#DejaVuSans-48\"/>\n      </g>\n     </g>\n    </g>\n    <g id=\"ytick_2\">\n     <g id=\"line2d_17\">\n      <path clip-path=\"url(#p51d0c9c017)\" d=\"M 80.5675 494.959791 \nL 750.1675 494.959791 \n\" style=\"fill:none;stroke:#b0b0b0;stroke-linecap:square;stroke-width:0.8;\"/>\n     </g>\n     <g id=\"line2d_18\">\n      <g>\n       <use style=\"stroke:#000000;stroke-width:0.8;\" x=\"80.5675\" xlink:href=\"#mffba5d04f7\" y=\"494.959791\"/>\n      </g>\n     </g>\n     <g id=\"text_10\">\n      <!-- 500 -->\n      <g transform=\"translate(43.0275 501.038541)scale(0.16 -0.16)\">\n       <use xlink:href=\"#DejaVuSans-53\"/>\n       <use x=\"63.623047\" xlink:href=\"#DejaVuSans-48\"/>\n       <use x=\"127.246094\" xlink:href=\"#DejaVuSans-48\"/>\n      </g>\n     </g>\n    </g>\n    <g id=\"ytick_3\">\n     <g id=\"line2d_19\">\n      <path clip-path=\"url(#p51d0c9c017)\" d=\"M 80.5675 421.37703 \nL 750.1675 421.37703 \n\" style=\"fill:none;stroke:#b0b0b0;stroke-linecap:square;stroke-width:0.8;\"/>\n     </g>\n     <g id=\"line2d_20\">\n      <g>\n       <use style=\"stroke:#000000;stroke-width:0.8;\" x=\"80.5675\" xlink:href=\"#mffba5d04f7\" y=\"421.37703\"/>\n      </g>\n     </g>\n     <g id=\"text_11\">\n      <!-- 1000 -->\n      <g transform=\"translate(32.8475 427.45578)scale(0.16 -0.16)\">\n       <use xlink:href=\"#DejaVuSans-49\"/>\n       <use x=\"63.623047\" xlink:href=\"#DejaVuSans-48\"/>\n       <use x=\"127.246094\" xlink:href=\"#DejaVuSans-48\"/>\n       <use x=\"190.869141\" xlink:href=\"#DejaVuSans-48\"/>\n      </g>\n     </g>\n    </g>\n    <g id=\"ytick_4\">\n     <g id=\"line2d_21\">\n      <path clip-path=\"url(#p51d0c9c017)\" d=\"M 80.5675 347.79427 \nL 750.1675 347.79427 \n\" style=\"fill:none;stroke:#b0b0b0;stroke-linecap:square;stroke-width:0.8;\"/>\n     </g>\n     <g id=\"line2d_22\">\n      <g>\n       <use style=\"stroke:#000000;stroke-width:0.8;\" x=\"80.5675\" xlink:href=\"#mffba5d04f7\" y=\"347.79427\"/>\n      </g>\n     </g>\n     <g id=\"text_12\">\n      <!-- 1500 -->\n      <g transform=\"translate(32.8475 353.87302)scale(0.16 -0.16)\">\n       <use xlink:href=\"#DejaVuSans-49\"/>\n       <use x=\"63.623047\" xlink:href=\"#DejaVuSans-53\"/>\n       <use x=\"127.246094\" xlink:href=\"#DejaVuSans-48\"/>\n       <use x=\"190.869141\" xlink:href=\"#DejaVuSans-48\"/>\n      </g>\n     </g>\n    </g>\n    <g id=\"ytick_5\">\n     <g id=\"line2d_23\">\n      <path clip-path=\"url(#p51d0c9c017)\" d=\"M 80.5675 274.21151 \nL 750.1675 274.21151 \n\" style=\"fill:none;stroke:#b0b0b0;stroke-linecap:square;stroke-width:0.8;\"/>\n     </g>\n     <g id=\"line2d_24\">\n      <g>\n       <use style=\"stroke:#000000;stroke-width:0.8;\" x=\"80.5675\" xlink:href=\"#mffba5d04f7\" y=\"274.21151\"/>\n      </g>\n     </g>\n     <g id=\"text_13\">\n      <!-- 2000 -->\n      <g transform=\"translate(32.8475 280.29026)scale(0.16 -0.16)\">\n       <use xlink:href=\"#DejaVuSans-50\"/>\n       <use x=\"63.623047\" xlink:href=\"#DejaVuSans-48\"/>\n       <use x=\"127.246094\" xlink:href=\"#DejaVuSans-48\"/>\n       <use x=\"190.869141\" xlink:href=\"#DejaVuSans-48\"/>\n      </g>\n     </g>\n    </g>\n    <g id=\"ytick_6\">\n     <g id=\"line2d_25\">\n      <path clip-path=\"url(#p51d0c9c017)\" d=\"M 80.5675 200.62875 \nL 750.1675 200.62875 \n\" style=\"fill:none;stroke:#b0b0b0;stroke-linecap:square;stroke-width:0.8;\"/>\n     </g>\n     <g id=\"line2d_26\">\n      <g>\n       <use style=\"stroke:#000000;stroke-width:0.8;\" x=\"80.5675\" xlink:href=\"#mffba5d04f7\" y=\"200.62875\"/>\n      </g>\n     </g>\n     <g id=\"text_14\">\n      <!-- 2500 -->\n      <g transform=\"translate(32.8475 206.7075)scale(0.16 -0.16)\">\n       <use xlink:href=\"#DejaVuSans-50\"/>\n       <use x=\"63.623047\" xlink:href=\"#DejaVuSans-53\"/>\n       <use x=\"127.246094\" xlink:href=\"#DejaVuSans-48\"/>\n       <use x=\"190.869141\" xlink:href=\"#DejaVuSans-48\"/>\n      </g>\n     </g>\n    </g>\n    <g id=\"ytick_7\">\n     <g id=\"line2d_27\">\n      <path clip-path=\"url(#p51d0c9c017)\" d=\"M 80.5675 127.045989 \nL 750.1675 127.045989 \n\" style=\"fill:none;stroke:#b0b0b0;stroke-linecap:square;stroke-width:0.8;\"/>\n     </g>\n     <g id=\"line2d_28\">\n      <g>\n       <use style=\"stroke:#000000;stroke-width:0.8;\" x=\"80.5675\" xlink:href=\"#mffba5d04f7\" y=\"127.045989\"/>\n      </g>\n     </g>\n     <g id=\"text_15\">\n      <!-- 3000 -->\n      <g transform=\"translate(32.8475 133.124739)scale(0.16 -0.16)\">\n       <use xlink:href=\"#DejaVuSans-51\"/>\n       <use x=\"63.623047\" xlink:href=\"#DejaVuSans-48\"/>\n       <use x=\"127.246094\" xlink:href=\"#DejaVuSans-48\"/>\n       <use x=\"190.869141\" xlink:href=\"#DejaVuSans-48\"/>\n      </g>\n     </g>\n    </g>\n    <g id=\"ytick_8\">\n     <g id=\"line2d_29\">\n      <path clip-path=\"url(#p51d0c9c017)\" d=\"M 80.5675 53.463229 \nL 750.1675 53.463229 \n\" style=\"fill:none;stroke:#b0b0b0;stroke-linecap:square;stroke-width:0.8;\"/>\n     </g>\n     <g id=\"line2d_30\">\n      <g>\n       <use style=\"stroke:#000000;stroke-width:0.8;\" x=\"80.5675\" xlink:href=\"#mffba5d04f7\" y=\"53.463229\"/>\n      </g>\n     </g>\n     <g id=\"text_16\">\n      <!-- 3500 -->\n      <g transform=\"translate(32.8475 59.541979)scale(0.16 -0.16)\">\n       <use xlink:href=\"#DejaVuSans-51\"/>\n       <use x=\"63.623047\" xlink:href=\"#DejaVuSans-53\"/>\n       <use x=\"127.246094\" xlink:href=\"#DejaVuSans-48\"/>\n       <use x=\"190.869141\" xlink:href=\"#DejaVuSans-48\"/>\n      </g>\n     </g>\n    </g>\n    <g id=\"text_17\">\n     <!-- QTD_INFRACOES -->\n     <defs>\n      <path d=\"M 39.40625 66.21875 \nQ 28.65625 66.21875 22.328125 58.203125 \nQ 16.015625 50.203125 16.015625 36.375 \nQ 16.015625 22.609375 22.328125 14.59375 \nQ 28.65625 6.59375 39.40625 6.59375 \nQ 50.140625 6.59375 56.421875 14.59375 \nQ 62.703125 22.609375 62.703125 36.375 \nQ 62.703125 50.203125 56.421875 58.203125 \nQ 50.140625 66.21875 39.40625 66.21875 \nz\nM 53.21875 1.3125 \nL 66.21875 -12.890625 \nL 54.296875 -12.890625 \nL 43.5 -1.21875 \nQ 41.890625 -1.3125 41.03125 -1.359375 \nQ 40.1875 -1.421875 39.40625 -1.421875 \nQ 24.03125 -1.421875 14.8125 8.859375 \nQ 5.609375 19.140625 5.609375 36.375 \nQ 5.609375 53.65625 14.8125 63.9375 \nQ 24.03125 74.21875 39.40625 74.21875 \nQ 54.734375 74.21875 63.90625 63.9375 \nQ 73.09375 53.65625 73.09375 36.375 \nQ 73.09375 23.6875 67.984375 14.640625 \nQ 62.890625 5.609375 53.21875 1.3125 \nz\n\" id=\"DejaVuSans-81\"/>\n      <path d=\"M -0.296875 72.90625 \nL 61.375 72.90625 \nL 61.375 64.59375 \nL 35.5 64.59375 \nL 35.5 0 \nL 25.59375 0 \nL 25.59375 64.59375 \nL -0.296875 64.59375 \nz\n\" id=\"DejaVuSans-84\"/>\n      <path d=\"M 50.984375 -16.609375 \nL 50.984375 -23.578125 \nL -0.984375 -23.578125 \nL -0.984375 -16.609375 \nz\n\" id=\"DejaVuSans-95\"/>\n      <path d=\"M 9.8125 72.90625 \nL 23.09375 72.90625 \nL 55.421875 11.921875 \nL 55.421875 72.90625 \nL 64.984375 72.90625 \nL 64.984375 0 \nL 51.703125 0 \nL 19.390625 60.984375 \nL 19.390625 0 \nL 9.8125 0 \nz\n\" id=\"DejaVuSans-78\"/>\n      <path d=\"M 9.8125 72.90625 \nL 51.703125 72.90625 \nL 51.703125 64.59375 \nL 19.671875 64.59375 \nL 19.671875 43.109375 \nL 48.578125 43.109375 \nL 48.578125 34.8125 \nL 19.671875 34.8125 \nL 19.671875 0 \nL 9.8125 0 \nz\n\" id=\"DejaVuSans-70\"/>\n      <path d=\"M 44.390625 34.1875 \nQ 47.5625 33.109375 50.5625 29.59375 \nQ 53.5625 26.078125 56.59375 19.921875 \nL 66.609375 0 \nL 56 0 \nL 46.6875 18.703125 \nQ 43.0625 26.03125 39.671875 28.421875 \nQ 36.28125 30.8125 30.421875 30.8125 \nL 19.671875 30.8125 \nL 19.671875 0 \nL 9.8125 0 \nL 9.8125 72.90625 \nL 32.078125 72.90625 \nQ 44.578125 72.90625 50.734375 67.671875 \nQ 56.890625 62.453125 56.890625 51.90625 \nQ 56.890625 45.015625 53.6875 40.46875 \nQ 50.484375 35.9375 44.390625 34.1875 \nz\nM 19.671875 64.796875 \nL 19.671875 38.921875 \nL 32.078125 38.921875 \nQ 39.203125 38.921875 42.84375 42.21875 \nQ 46.484375 45.515625 46.484375 51.90625 \nQ 46.484375 58.296875 42.84375 61.546875 \nQ 39.203125 64.796875 32.078125 64.796875 \nz\n\" id=\"DejaVuSans-82\"/>\n      <path d=\"M 64.40625 67.28125 \nL 64.40625 56.890625 \nQ 59.421875 61.53125 53.78125 63.8125 \nQ 48.140625 66.109375 41.796875 66.109375 \nQ 29.296875 66.109375 22.65625 58.46875 \nQ 16.015625 50.828125 16.015625 36.375 \nQ 16.015625 21.96875 22.65625 14.328125 \nQ 29.296875 6.6875 41.796875 6.6875 \nQ 48.140625 6.6875 53.78125 8.984375 \nQ 59.421875 11.28125 64.40625 15.921875 \nL 64.40625 5.609375 \nQ 59.234375 2.09375 53.4375 0.328125 \nQ 47.65625 -1.421875 41.21875 -1.421875 \nQ 24.65625 -1.421875 15.125 8.703125 \nQ 5.609375 18.84375 5.609375 36.375 \nQ 5.609375 53.953125 15.125 64.078125 \nQ 24.65625 74.21875 41.21875 74.21875 \nQ 47.75 74.21875 53.53125 72.484375 \nQ 59.328125 70.75 64.40625 67.28125 \nz\n\" id=\"DejaVuSans-67\"/>\n      <path d=\"M 39.40625 66.21875 \nQ 28.65625 66.21875 22.328125 58.203125 \nQ 16.015625 50.203125 16.015625 36.375 \nQ 16.015625 22.609375 22.328125 14.59375 \nQ 28.65625 6.59375 39.40625 6.59375 \nQ 50.140625 6.59375 56.421875 14.59375 \nQ 62.703125 22.609375 62.703125 36.375 \nQ 62.703125 50.203125 56.421875 58.203125 \nQ 50.140625 66.21875 39.40625 66.21875 \nz\nM 39.40625 74.21875 \nQ 54.734375 74.21875 63.90625 63.9375 \nQ 73.09375 53.65625 73.09375 36.375 \nQ 73.09375 19.140625 63.90625 8.859375 \nQ 54.734375 -1.421875 39.40625 -1.421875 \nQ 24.03125 -1.421875 14.8125 8.828125 \nQ 5.609375 19.09375 5.609375 36.375 \nQ 5.609375 53.65625 14.8125 63.9375 \nQ 24.03125 74.21875 39.40625 74.21875 \nz\n\" id=\"DejaVuSans-79\"/>\n      <path d=\"M 9.8125 72.90625 \nL 55.90625 72.90625 \nL 55.90625 64.59375 \nL 19.671875 64.59375 \nL 19.671875 43.015625 \nL 54.390625 43.015625 \nL 54.390625 34.71875 \nL 19.671875 34.71875 \nL 19.671875 8.296875 \nL 56.78125 8.296875 \nL 56.78125 0 \nL 9.8125 0 \nz\n\" id=\"DejaVuSans-69\"/>\n      <path d=\"M 53.515625 70.515625 \nL 53.515625 60.890625 \nQ 47.90625 63.578125 42.921875 64.890625 \nQ 37.9375 66.21875 33.296875 66.21875 \nQ 25.25 66.21875 20.875 63.09375 \nQ 16.5 59.96875 16.5 54.203125 \nQ 16.5 49.359375 19.40625 46.890625 \nQ 22.3125 44.4375 30.421875 42.921875 \nL 36.375 41.703125 \nQ 47.40625 39.59375 52.65625 34.296875 \nQ 57.90625 29 57.90625 20.125 \nQ 57.90625 9.515625 50.796875 4.046875 \nQ 43.703125 -1.421875 29.984375 -1.421875 \nQ 24.8125 -1.421875 18.96875 -0.25 \nQ 13.140625 0.921875 6.890625 3.21875 \nL 6.890625 13.375 \nQ 12.890625 10.015625 18.65625 8.296875 \nQ 24.421875 6.59375 29.984375 6.59375 \nQ 38.421875 6.59375 43.015625 9.90625 \nQ 47.609375 13.234375 47.609375 19.390625 \nQ 47.609375 24.75 44.3125 27.78125 \nQ 41.015625 30.8125 33.5 32.328125 \nL 27.484375 33.5 \nQ 16.453125 35.6875 11.515625 40.375 \nQ 6.59375 45.0625 6.59375 53.421875 \nQ 6.59375 63.09375 13.40625 68.65625 \nQ 20.21875 74.21875 32.171875 74.21875 \nQ 37.3125 74.21875 42.625 73.28125 \nQ 47.953125 72.359375 53.515625 70.515625 \nz\n\" id=\"DejaVuSans-83\"/>\n     </defs>\n     <g transform=\"translate(19.075 363.75375)rotate(-90)scale(0.16 -0.16)\">\n      <use xlink:href=\"#DejaVuSans-81\"/>\n      <use x=\"78.710938\" xlink:href=\"#DejaVuSans-84\"/>\n      <use x=\"139.794922\" xlink:href=\"#DejaVuSans-68\"/>\n      <use x=\"216.796875\" xlink:href=\"#DejaVuSans-95\"/>\n      <use x=\"266.796875\" xlink:href=\"#DejaVuSans-73\"/>\n      <use x=\"296.289062\" xlink:href=\"#DejaVuSans-78\"/>\n      <use x=\"371.09375\" xlink:href=\"#DejaVuSans-70\"/>\n      <use x=\"428.613281\" xlink:href=\"#DejaVuSans-82\"/>\n      <use x=\"494.095703\" xlink:href=\"#DejaVuSans-65\"/>\n      <use x=\"560.753906\" xlink:href=\"#DejaVuSans-67\"/>\n      <use x=\"630.578125\" xlink:href=\"#DejaVuSans-79\"/>\n      <use x=\"709.289062\" xlink:href=\"#DejaVuSans-69\"/>\n      <use x=\"772.472656\" xlink:href=\"#DejaVuSans-83\"/>\n     </g>\n    </g>\n   </g>\n   <g id=\"line2d_31\">\n    <path clip-path=\"url(#p51d0c9c017)\" d=\"M 111.003864 235.654143 \nL 131.994459 207.83986 \nL 152.985055 173.99179 \nL 173.97565 253.461171 \nL 194.966246 320.421483 \nL 215.956842 212.843488 \nL 236.947437 229.326026 \nL 257.938033 258.906296 \nL 278.928629 179.731246 \nL 299.919224 315.565021 \nL 320.90982 265.67591 \nL 341.900415 306.146428 \nL 362.891011 206.809701 \nL 383.881607 251.400854 \nL 404.872202 241.246433 \nL 425.862798 285.984751 \nL 446.853393 193.417639 \nL 467.843989 309.825566 \nL 488.834585 294.373186 \nL 509.82518 225.941219 \nL 530.815776 328.368421 \nL 551.806371 255.81582 \nL 572.796967 334.107877 \nL 593.787563 393.709913 \nL 614.778158 513.355481 \nL 635.768754 543.965909 \nL 656.75935 473.326459 \nL 677.749945 470.971811 \nL 698.740541 496.725777 \nL 719.731136 523.951398 \n\" style=\"fill:none;stroke:#1f77b4;stroke-linecap:round;stroke-width:1.5;\"/>\n   </g>\n   <g id=\"line2d_32\">\n    <path clip-path=\"url(#p51d0c9c017)\" d=\"M 111.003864 117.038734 \nL 131.994459 133.815603 \nL 152.985055 113.21243 \nL 173.97565 153.241452 \nL 194.966246 49.784091 \nL 215.956842 231.533509 \nL 236.947437 186.059363 \nL 257.938033 189.591335 \nL 278.928629 142.056872 \nL 299.919224 105.706989 \nL 320.90982 175.021949 \nL 341.900415 116.302906 \nL 362.891011 256.845978 \nL 383.881607 205.190881 \nL 404.872202 210.341674 \nL 425.862798 202.836232 \nL 446.853393 152.505624 \nL 467.843989 165.750521 \nL 488.834585 251.253689 \nL 509.82518 237.567295 \nL 530.815776 261.555275 \nL 551.806371 182.968887 \nL 572.796967 170.459818 \nL 593.787563 152.505624 \nL 614.778158 151.475466 \nL 635.768754 142.351203 \nL 656.75935 228.590198 \nL 677.749945 205.043715 \nL 698.740541 167.222176 \nL 719.731136 188.414011 \n\" style=\"fill:none;stroke:#ff0000;stroke-linecap:round;stroke-width:1.5;\"/>\n   </g>\n   <g id=\"patch_3\">\n    <path d=\"M 80.5675 568.675 \nL 80.5675 25.075 \n\" style=\"fill:none;stroke:#000000;stroke-linecap:square;stroke-linejoin:miter;stroke-width:0.8;\"/>\n   </g>\n   <g id=\"patch_4\">\n    <path d=\"M 750.1675 568.675 \nL 750.1675 25.075 \n\" style=\"fill:none;stroke:#000000;stroke-linecap:square;stroke-linejoin:miter;stroke-width:0.8;\"/>\n   </g>\n   <g id=\"patch_5\">\n    <path d=\"M 80.5675 568.675 \nL 750.1675 568.675 \n\" style=\"fill:none;stroke:#000000;stroke-linecap:square;stroke-linejoin:miter;stroke-width:0.8;\"/>\n   </g>\n   <g id=\"patch_6\">\n    <path d=\"M 80.5675 25.075 \nL 750.1675 25.075 \n\" style=\"fill:none;stroke:#000000;stroke-linecap:square;stroke-linejoin:miter;stroke-width:0.8;\"/>\n   </g>\n   <g id=\"text_18\">\n    <!-- QTD_INFRACOES X DIA -->\n    <defs>\n     <path id=\"DejaVuSans-32\"/>\n     <path d=\"M 6.296875 72.90625 \nL 16.890625 72.90625 \nL 35.015625 45.796875 \nL 53.21875 72.90625 \nL 63.8125 72.90625 \nL 40.375 37.890625 \nL 65.375 0 \nL 54.78125 0 \nL 34.28125 31 \nL 13.625 0 \nL 2.984375 0 \nL 29 38.921875 \nz\n\" id=\"DejaVuSans-88\"/>\n    </defs>\n    <g transform=\"translate(323.93125 19.075)scale(0.16 -0.16)\">\n     <use xlink:href=\"#DejaVuSans-81\"/>\n     <use x=\"78.710938\" xlink:href=\"#DejaVuSans-84\"/>\n     <use x=\"139.794922\" xlink:href=\"#DejaVuSans-68\"/>\n     <use x=\"216.796875\" xlink:href=\"#DejaVuSans-95\"/>\n     <use x=\"266.796875\" xlink:href=\"#DejaVuSans-73\"/>\n     <use x=\"296.289062\" xlink:href=\"#DejaVuSans-78\"/>\n     <use x=\"371.09375\" xlink:href=\"#DejaVuSans-70\"/>\n     <use x=\"428.613281\" xlink:href=\"#DejaVuSans-82\"/>\n     <use x=\"494.095703\" xlink:href=\"#DejaVuSans-65\"/>\n     <use x=\"560.753906\" xlink:href=\"#DejaVuSans-67\"/>\n     <use x=\"630.578125\" xlink:href=\"#DejaVuSans-79\"/>\n     <use x=\"709.289062\" xlink:href=\"#DejaVuSans-69\"/>\n     <use x=\"772.472656\" xlink:href=\"#DejaVuSans-83\"/>\n     <use x=\"835.949219\" xlink:href=\"#DejaVuSans-32\"/>\n     <use x=\"867.736328\" xlink:href=\"#DejaVuSans-88\"/>\n     <use x=\"936.242188\" xlink:href=\"#DejaVuSans-32\"/>\n     <use x=\"968.029297\" xlink:href=\"#DejaVuSans-68\"/>\n     <use x=\"1045.03125\" xlink:href=\"#DejaVuSans-73\"/>\n     <use x=\"1074.523438\" xlink:href=\"#DejaVuSans-65\"/>\n    </g>\n   </g>\n   <g id=\"legend_1\">\n    <g id=\"patch_7\">\n     <path d=\"M 600.801938 82.603625 \nL 739.3875 82.603625 \nQ 742.4675 82.603625 742.4675 79.523625 \nL 742.4675 35.855 \nQ 742.4675 32.775 739.3875 32.775 \nL 600.801938 32.775 \nQ 597.721937 32.775 597.721937 35.855 \nL 597.721937 79.523625 \nQ 597.721937 82.603625 600.801938 82.603625 \nz\n\" style=\"fill:#eaeaf2;opacity:0.8;stroke:#cccccc;stroke-linejoin:miter;\"/>\n    </g>\n    <g id=\"line2d_33\">\n     <path d=\"M 603.881937 45.246594 \nL 634.681937 45.246594 \n\" style=\"fill:none;stroke:#1f77b4;stroke-linecap:round;stroke-width:1.5;\"/>\n    </g>\n    <g id=\"line2d_34\"/>\n    <g id=\"text_19\">\n     <!-- ABRIL/2020 -->\n     <defs>\n      <path d=\"M 19.671875 34.8125 \nL 19.671875 8.109375 \nL 35.5 8.109375 \nQ 43.453125 8.109375 47.28125 11.40625 \nQ 51.125 14.703125 51.125 21.484375 \nQ 51.125 28.328125 47.28125 31.5625 \nQ 43.453125 34.8125 35.5 34.8125 \nz\nM 19.671875 64.796875 \nL 19.671875 42.828125 \nL 34.28125 42.828125 \nQ 41.5 42.828125 45.03125 45.53125 \nQ 48.578125 48.25 48.578125 53.8125 \nQ 48.578125 59.328125 45.03125 62.0625 \nQ 41.5 64.796875 34.28125 64.796875 \nz\nM 9.8125 72.90625 \nL 35.015625 72.90625 \nQ 46.296875 72.90625 52.390625 68.21875 \nQ 58.5 63.53125 58.5 54.890625 \nQ 58.5 48.1875 55.375 44.234375 \nQ 52.25 40.28125 46.1875 39.3125 \nQ 53.46875 37.75 57.5 32.78125 \nQ 61.53125 27.828125 61.53125 20.40625 \nQ 61.53125 10.640625 54.890625 5.3125 \nQ 48.25 0 35.984375 0 \nL 9.8125 0 \nz\n\" id=\"DejaVuSans-66\"/>\n      <path d=\"M 9.8125 72.90625 \nL 19.671875 72.90625 \nL 19.671875 8.296875 \nL 55.171875 8.296875 \nL 55.171875 0 \nL 9.8125 0 \nz\n\" id=\"DejaVuSans-76\"/>\n      <path d=\"M 25.390625 72.90625 \nL 33.6875 72.90625 \nL 8.296875 -9.28125 \nL 0 -9.28125 \nz\n\" id=\"DejaVuSans-47\"/>\n     </defs>\n     <g style=\"fill:#262626;\" transform=\"translate(647.001937 50.636594)scale(0.154 -0.154)\">\n      <use xlink:href=\"#DejaVuSans-65\"/>\n      <use x=\"68.408203\" xlink:href=\"#DejaVuSans-66\"/>\n      <use x=\"137.011719\" xlink:href=\"#DejaVuSans-82\"/>\n      <use x=\"206.494141\" xlink:href=\"#DejaVuSans-73\"/>\n      <use x=\"235.986328\" xlink:href=\"#DejaVuSans-76\"/>\n      <use x=\"291.699219\" xlink:href=\"#DejaVuSans-47\"/>\n      <use x=\"325.390625\" xlink:href=\"#DejaVuSans-50\"/>\n      <use x=\"389.013672\" xlink:href=\"#DejaVuSans-48\"/>\n      <use x=\"452.636719\" xlink:href=\"#DejaVuSans-50\"/>\n      <use x=\"516.259766\" xlink:href=\"#DejaVuSans-48\"/>\n     </g>\n    </g>\n    <g id=\"line2d_35\">\n     <path d=\"M 603.881937 67.850906 \nL 634.681937 67.850906 \n\" style=\"fill:none;stroke:#ff0000;stroke-linecap:round;stroke-width:1.5;\"/>\n    </g>\n    <g id=\"line2d_36\"/>\n    <g id=\"text_20\">\n     <!-- ABRIL/2019 -->\n     <defs>\n      <path d=\"M 10.984375 1.515625 \nL 10.984375 10.5 \nQ 14.703125 8.734375 18.5 7.8125 \nQ 22.3125 6.890625 25.984375 6.890625 \nQ 35.75 6.890625 40.890625 13.453125 \nQ 46.046875 20.015625 46.78125 33.40625 \nQ 43.953125 29.203125 39.59375 26.953125 \nQ 35.25 24.703125 29.984375 24.703125 \nQ 19.046875 24.703125 12.671875 31.3125 \nQ 6.296875 37.9375 6.296875 49.421875 \nQ 6.296875 60.640625 12.9375 67.421875 \nQ 19.578125 74.21875 30.609375 74.21875 \nQ 43.265625 74.21875 49.921875 64.515625 \nQ 56.59375 54.828125 56.59375 36.375 \nQ 56.59375 19.140625 48.40625 8.859375 \nQ 40.234375 -1.421875 26.421875 -1.421875 \nQ 22.703125 -1.421875 18.890625 -0.6875 \nQ 15.09375 0.046875 10.984375 1.515625 \nz\nM 30.609375 32.421875 \nQ 37.25 32.421875 41.125 36.953125 \nQ 45.015625 41.5 45.015625 49.421875 \nQ 45.015625 57.28125 41.125 61.84375 \nQ 37.25 66.40625 30.609375 66.40625 \nQ 23.96875 66.40625 20.09375 61.84375 \nQ 16.21875 57.28125 16.21875 49.421875 \nQ 16.21875 41.5 20.09375 36.953125 \nQ 23.96875 32.421875 30.609375 32.421875 \nz\n\" id=\"DejaVuSans-57\"/>\n     </defs>\n     <g style=\"fill:#262626;\" transform=\"translate(647.001937 73.240906)scale(0.154 -0.154)\">\n      <use xlink:href=\"#DejaVuSans-65\"/>\n      <use x=\"68.408203\" xlink:href=\"#DejaVuSans-66\"/>\n      <use x=\"137.011719\" xlink:href=\"#DejaVuSans-82\"/>\n      <use x=\"206.494141\" xlink:href=\"#DejaVuSans-73\"/>\n      <use x=\"235.986328\" xlink:href=\"#DejaVuSans-76\"/>\n      <use x=\"291.699219\" xlink:href=\"#DejaVuSans-47\"/>\n      <use x=\"325.390625\" xlink:href=\"#DejaVuSans-50\"/>\n      <use x=\"389.013672\" xlink:href=\"#DejaVuSans-48\"/>\n      <use x=\"452.636719\" xlink:href=\"#DejaVuSans-49\"/>\n      <use x=\"516.259766\" xlink:href=\"#DejaVuSans-57\"/>\n     </g>\n    </g>\n   </g>\n  </g>\n </g>\n <defs>\n  <clipPath id=\"p51d0c9c017\">\n   <rect height=\"543.6\" width=\"669.6\" x=\"80.5675\" y=\"25.075\"/>\n  </clipPath>\n </defs>\n</svg>\n",
      "image/png": "[encoded data removed]"
     },
     "metadata": {
      "needs_background": "light"
     }
    }
   ],
   "source": [
    "# gráfico de linha qtd de multas por periodo\n",
    "# comparando 2019/2020\n",
    "ax =plt.gca()\n",
    "sns.set(font_scale=1.4)\n",
    "df_multa_periodo_abril = df_infracoes_abril.groupby('cometimento', as_index=False)['tipo_infracao'].count()\n",
    "df_multa_periodo_abril2019 = df_infracoes_abril_2019.groupby('cometimento', as_index=False)['tipo_infracao'].count()\n",
    "df_multa_periodo_abril.plot(ax=ax, label='ABRIL/2020', figsize=(12, 10),  y='tipo_infracao', fontsize=16, kind='line')\n",
    "df_multa_periodo_abril2019.plot(ax=ax, label='ABRIL/2019', figsize=(12, 10),  y='tipo_infracao', fontsize=16, color='red', kind='line')\n",
    "plt.title(\"QTD_INFRACOES X DIA\", fontsize=16)\n",
    "plt.ylabel('QTD_INFRACOES', labelpad=10, fontsize=16)\n",
    "plt.xlabel('DIA', labelpad=10, fontsize=16)\n",
    "plt.show()\n"
   ]
  },
  {
   "cell_type": "code",
   "execution_count": 10,
   "metadata": {},
   "outputs": [
    {
     "output_type": "display_data",
     "data": {
      "text/plain": "<Figure size 864x720 with 1 Axes>",
      "image/svg+xml": "<?xml version=\"1.0\" encoding=\"utf-8\" standalone=\"no\"?>\n<!DOCTYPE svg PUBLIC \"-//W3C//DTD SVG 1.1//EN\"\n  \"http://www.w3.org/Graphics/SVG/1.1/DTD/svg11.dtd\">\n<!-- Created with matplotlib (https://matplotlib.org/) -->\n<svg height=\"631.345pt\" version=\"1.1\" viewBox=\"0 0 770.0475 631.345\" width=\"770.0475pt\" xmlns=\"http://www.w3.org/2000/svg\" xmlns:xlink=\"http://www.w3.org/1999/xlink\">\n <defs>\n  <style type=\"text/css\">\n*{stroke-linecap:butt;stroke-linejoin:round;}\n  </style>\n </defs>\n <g id=\"figure_1\">\n  <g id=\"patch_1\">\n   <path d=\"M 0 631.345 \nL 770.0475 631.345 \nL 770.0475 0 \nL 0 0 \nz\n\" style=\"fill:#ffffff;\"/>\n  </g>\n  <g id=\"axes_1\">\n   <g id=\"patch_2\">\n    <path d=\"M 93.2475 568.675 \nL 762.8475 568.675 \nL 762.8475 25.075 \nL 93.2475 25.075 \nz\n\" style=\"fill:#eaeaf2;\"/>\n   </g>\n   <g id=\"matplotlib.axis_1\">\n    <g id=\"xtick_1\">\n     <g id=\"line2d_1\">\n      <path clip-path=\"url(#p1824715a81)\" d=\"M 176.9475 568.675 \nL 176.9475 25.075 \n\" style=\"fill:none;stroke:#ffffff;stroke-linecap:round;\"/>\n     </g>\n     <g id=\"text_1\">\n      <!-- Grave -->\n      <defs>\n       <path d=\"M 59.515625 10.40625 \nL 59.515625 29.984375 \nL 43.40625 29.984375 \nL 43.40625 38.09375 \nL 69.28125 38.09375 \nL 69.28125 6.78125 \nQ 63.578125 2.734375 56.6875 0.65625 \nQ 49.8125 -1.421875 42 -1.421875 \nQ 24.90625 -1.421875 15.25 8.5625 \nQ 5.609375 18.5625 5.609375 36.375 \nQ 5.609375 54.25 15.25 64.234375 \nQ 24.90625 74.21875 42 74.21875 \nQ 49.125 74.21875 55.546875 72.453125 \nQ 61.96875 70.703125 67.390625 67.28125 \nL 67.390625 56.78125 \nQ 61.921875 61.421875 55.765625 63.765625 \nQ 49.609375 66.109375 42.828125 66.109375 \nQ 29.4375 66.109375 22.71875 58.640625 \nQ 16.015625 51.171875 16.015625 36.375 \nQ 16.015625 21.625 22.71875 14.15625 \nQ 29.4375 6.6875 42.828125 6.6875 \nQ 48.046875 6.6875 52.140625 7.59375 \nQ 56.25 8.5 59.515625 10.40625 \nz\n\" id=\"DejaVuSans-71\"/>\n       <path d=\"M 41.109375 46.296875 \nQ 39.59375 47.171875 37.8125 47.578125 \nQ 36.03125 48 33.890625 48 \nQ 26.265625 48 22.1875 43.046875 \nQ 18.109375 38.09375 18.109375 28.8125 \nL 18.109375 0 \nL 9.078125 0 \nL 9.078125 54.6875 \nL 18.109375 54.6875 \nL 18.109375 46.1875 \nQ 20.953125 51.171875 25.484375 53.578125 \nQ 30.03125 56 36.53125 56 \nQ 37.453125 56 38.578125 55.875 \nQ 39.703125 55.765625 41.0625 55.515625 \nz\n\" id=\"DejaVuSans-114\"/>\n       <path d=\"M 34.28125 27.484375 \nQ 23.390625 27.484375 19.1875 25 \nQ 14.984375 22.515625 14.984375 16.5 \nQ 14.984375 11.71875 18.140625 8.90625 \nQ 21.296875 6.109375 26.703125 6.109375 \nQ 34.1875 6.109375 38.703125 11.40625 \nQ 43.21875 16.703125 43.21875 25.484375 \nL 43.21875 27.484375 \nz\nM 52.203125 31.203125 \nL 52.203125 0 \nL 43.21875 0 \nL 43.21875 8.296875 \nQ 40.140625 3.328125 35.546875 0.953125 \nQ 30.953125 -1.421875 24.3125 -1.421875 \nQ 15.921875 -1.421875 10.953125 3.296875 \nQ 6 8.015625 6 15.921875 \nQ 6 25.140625 12.171875 29.828125 \nQ 18.359375 34.515625 30.609375 34.515625 \nL 43.21875 34.515625 \nL 43.21875 35.40625 \nQ 43.21875 41.609375 39.140625 45 \nQ 35.0625 48.390625 27.6875 48.390625 \nQ 23 48.390625 18.546875 47.265625 \nQ 14.109375 46.140625 10.015625 43.890625 \nL 10.015625 52.203125 \nQ 14.9375 54.109375 19.578125 55.046875 \nQ 24.21875 56 28.609375 56 \nQ 40.484375 56 46.34375 49.84375 \nQ 52.203125 43.703125 52.203125 31.203125 \nz\n\" id=\"DejaVuSans-97\"/>\n       <path d=\"M 2.984375 54.6875 \nL 12.5 54.6875 \nL 29.59375 8.796875 \nL 46.6875 54.6875 \nL 56.203125 54.6875 \nL 35.6875 0 \nL 23.484375 0 \nz\n\" id=\"DejaVuSans-118\"/>\n       <path d=\"M 56.203125 29.59375 \nL 56.203125 25.203125 \nL 14.890625 25.203125 \nQ 15.484375 15.921875 20.484375 11.0625 \nQ 25.484375 6.203125 34.421875 6.203125 \nQ 39.59375 6.203125 44.453125 7.46875 \nQ 49.3125 8.734375 54.109375 11.28125 \nL 54.109375 2.78125 \nQ 49.265625 0.734375 44.1875 -0.34375 \nQ 39.109375 -1.421875 33.890625 -1.421875 \nQ 20.796875 -1.421875 13.15625 6.1875 \nQ 5.515625 13.8125 5.515625 26.8125 \nQ 5.515625 40.234375 12.765625 48.109375 \nQ 20.015625 56 32.328125 56 \nQ 43.359375 56 49.78125 48.890625 \nQ 56.203125 41.796875 56.203125 29.59375 \nz\nM 47.21875 32.234375 \nQ 47.125 39.59375 43.09375 43.984375 \nQ 39.0625 48.390625 32.421875 48.390625 \nQ 24.90625 48.390625 20.390625 44.140625 \nQ 15.875 39.890625 15.1875 32.171875 \nz\n\" id=\"DejaVuSans-101\"/>\n      </defs>\n      <g style=\"fill:#262626;\" transform=\"translate(152.9 590.3325)scale(0.16 -0.16)\">\n       <use xlink:href=\"#DejaVuSans-71\"/>\n       <use x=\"77.490234\" xlink:href=\"#DejaVuSans-114\"/>\n       <use x=\"118.603516\" xlink:href=\"#DejaVuSans-97\"/>\n       <use x=\"179.882812\" xlink:href=\"#DejaVuSans-118\"/>\n       <use x=\"239.0625\" xlink:href=\"#DejaVuSans-101\"/>\n      </g>\n     </g>\n    </g>\n    <g id=\"xtick_2\">\n     <g id=\"line2d_2\">\n      <path clip-path=\"url(#p1824715a81)\" d=\"M 344.3475 568.675 \nL 344.3475 25.075 \n\" style=\"fill:none;stroke:#ffffff;stroke-linecap:round;\"/>\n     </g>\n     <g id=\"text_2\">\n      <!-- Gravíssima -->\n      <defs>\n       <path d=\"M 20.65625 79.984375 \nL 30.375 79.984375 \nL 14.46875 61.625 \nL 6.984375 61.625 \nz\nM 9.421875 54.6875 \nL 18.40625 54.6875 \nL 18.40625 0 \nL 9.421875 0 \nz\nM 13.921875 56 \nz\n\" id=\"DejaVuSans-237\"/>\n       <path d=\"M 44.28125 53.078125 \nL 44.28125 44.578125 \nQ 40.484375 46.53125 36.375 47.5 \nQ 32.28125 48.484375 27.875 48.484375 \nQ 21.1875 48.484375 17.84375 46.4375 \nQ 14.5 44.390625 14.5 40.28125 \nQ 14.5 37.15625 16.890625 35.375 \nQ 19.28125 33.59375 26.515625 31.984375 \nL 29.59375 31.296875 \nQ 39.15625 29.25 43.1875 25.515625 \nQ 47.21875 21.78125 47.21875 15.09375 \nQ 47.21875 7.46875 41.1875 3.015625 \nQ 35.15625 -1.421875 24.609375 -1.421875 \nQ 20.21875 -1.421875 15.453125 -0.5625 \nQ 10.6875 0.296875 5.421875 2 \nL 5.421875 11.28125 \nQ 10.40625 8.6875 15.234375 7.390625 \nQ 20.0625 6.109375 24.8125 6.109375 \nQ 31.15625 6.109375 34.5625 8.28125 \nQ 37.984375 10.453125 37.984375 14.40625 \nQ 37.984375 18.0625 35.515625 20.015625 \nQ 33.0625 21.96875 24.703125 23.78125 \nL 21.578125 24.515625 \nQ 13.234375 26.265625 9.515625 29.90625 \nQ 5.8125 33.546875 5.8125 39.890625 \nQ 5.8125 47.609375 11.28125 51.796875 \nQ 16.75 56 26.8125 56 \nQ 31.78125 56 36.171875 55.265625 \nQ 40.578125 54.546875 44.28125 53.078125 \nz\n\" id=\"DejaVuSans-115\"/>\n       <path d=\"M 9.421875 54.6875 \nL 18.40625 54.6875 \nL 18.40625 0 \nL 9.421875 0 \nz\nM 9.421875 75.984375 \nL 18.40625 75.984375 \nL 18.40625 64.59375 \nL 9.421875 64.59375 \nz\n\" id=\"DejaVuSans-105\"/>\n       <path d=\"M 52 44.1875 \nQ 55.375 50.25 60.0625 53.125 \nQ 64.75 56 71.09375 56 \nQ 79.640625 56 84.28125 50.015625 \nQ 88.921875 44.046875 88.921875 33.015625 \nL 88.921875 0 \nL 79.890625 0 \nL 79.890625 32.71875 \nQ 79.890625 40.578125 77.09375 44.375 \nQ 74.3125 48.1875 68.609375 48.1875 \nQ 61.625 48.1875 57.5625 43.546875 \nQ 53.515625 38.921875 53.515625 30.90625 \nL 53.515625 0 \nL 44.484375 0 \nL 44.484375 32.71875 \nQ 44.484375 40.625 41.703125 44.40625 \nQ 38.921875 48.1875 33.109375 48.1875 \nQ 26.21875 48.1875 22.15625 43.53125 \nQ 18.109375 38.875 18.109375 30.90625 \nL 18.109375 0 \nL 9.078125 0 \nL 9.078125 54.6875 \nL 18.109375 54.6875 \nL 18.109375 46.1875 \nQ 21.1875 51.21875 25.484375 53.609375 \nQ 29.78125 56 35.6875 56 \nQ 41.65625 56 45.828125 52.96875 \nQ 50 49.953125 52 44.1875 \nz\n\" id=\"DejaVuSans-109\"/>\n      </defs>\n      <g style=\"fill:#262626;\" transform=\"translate(299.7475 590.3325)scale(0.16 -0.16)\">\n       <use xlink:href=\"#DejaVuSans-71\"/>\n       <use x=\"77.490234\" xlink:href=\"#DejaVuSans-114\"/>\n       <use x=\"118.603516\" xlink:href=\"#DejaVuSans-97\"/>\n       <use x=\"179.882812\" xlink:href=\"#DejaVuSans-118\"/>\n       <use x=\"239.0625\" xlink:href=\"#DejaVuSans-237\"/>\n       <use x=\"266.845703\" xlink:href=\"#DejaVuSans-115\"/>\n       <use x=\"318.945312\" xlink:href=\"#DejaVuSans-115\"/>\n       <use x=\"371.044922\" xlink:href=\"#DejaVuSans-105\"/>\n       <use x=\"398.828125\" xlink:href=\"#DejaVuSans-109\"/>\n       <use x=\"496.240234\" xlink:href=\"#DejaVuSans-97\"/>\n      </g>\n     </g>\n    </g>\n    <g id=\"xtick_3\">\n     <g id=\"line2d_3\">\n      <path clip-path=\"url(#p1824715a81)\" d=\"M 511.7475 568.675 \nL 511.7475 25.075 \n\" style=\"fill:none;stroke:#ffffff;stroke-linecap:round;\"/>\n     </g>\n     <g id=\"text_3\">\n      <!-- Leve -->\n      <defs>\n       <path d=\"M 9.8125 72.90625 \nL 19.671875 72.90625 \nL 19.671875 8.296875 \nL 55.171875 8.296875 \nL 55.171875 0 \nL 9.8125 0 \nz\n\" id=\"DejaVuSans-76\"/>\n      </defs>\n      <g style=\"fill:#262626;\" transform=\"translate(492.85 590.3325)scale(0.16 -0.16)\">\n       <use xlink:href=\"#DejaVuSans-76\"/>\n       <use x=\"53.962891\" xlink:href=\"#DejaVuSans-101\"/>\n       <use x=\"115.486328\" xlink:href=\"#DejaVuSans-118\"/>\n       <use x=\"174.666016\" xlink:href=\"#DejaVuSans-101\"/>\n      </g>\n     </g>\n    </g>\n    <g id=\"xtick_4\">\n     <g id=\"line2d_4\">\n      <path clip-path=\"url(#p1824715a81)\" d=\"M 679.1475 568.675 \nL 679.1475 25.075 \n\" style=\"fill:none;stroke:#ffffff;stroke-linecap:round;\"/>\n     </g>\n     <g id=\"text_4\">\n      <!-- Média -->\n      <defs>\n       <path d=\"M 9.8125 72.90625 \nL 24.515625 72.90625 \nL 43.109375 23.296875 \nL 61.8125 72.90625 \nL 76.515625 72.90625 \nL 76.515625 0 \nL 66.890625 0 \nL 66.890625 64.015625 \nL 48.09375 14.015625 \nL 38.1875 14.015625 \nL 19.390625 64.015625 \nL 19.390625 0 \nL 9.8125 0 \nz\n\" id=\"DejaVuSans-77\"/>\n       <path d=\"M 56.203125 29.59375 \nL 56.203125 25.203125 \nL 14.890625 25.203125 \nQ 15.484375 15.921875 20.484375 11.0625 \nQ 25.484375 6.203125 34.421875 6.203125 \nQ 39.59375 6.203125 44.453125 7.46875 \nQ 49.3125 8.734375 54.109375 11.28125 \nL 54.109375 2.78125 \nQ 49.265625 0.734375 44.1875 -0.34375 \nQ 39.109375 -1.421875 33.890625 -1.421875 \nQ 20.796875 -1.421875 13.15625 6.1875 \nQ 5.515625 13.8125 5.515625 26.8125 \nQ 5.515625 40.234375 12.765625 48.109375 \nQ 20.015625 56 32.328125 56 \nQ 43.359375 56 49.78125 48.890625 \nQ 56.203125 41.796875 56.203125 29.59375 \nz\nM 47.21875 32.234375 \nQ 47.125 39.59375 43.09375 43.984375 \nQ 39.0625 48.390625 32.421875 48.390625 \nQ 24.90625 48.390625 20.390625 44.140625 \nQ 15.875 39.890625 15.1875 32.171875 \nz\nM 38.53125 79.984375 \nL 48.25 79.984375 \nL 32.34375 61.625 \nL 24.859375 61.625 \nz\n\" id=\"DejaVuSans-233\"/>\n       <path d=\"M 45.40625 46.390625 \nL 45.40625 75.984375 \nL 54.390625 75.984375 \nL 54.390625 0 \nL 45.40625 0 \nL 45.40625 8.203125 \nQ 42.578125 3.328125 38.25 0.953125 \nQ 33.9375 -1.421875 27.875 -1.421875 \nQ 17.96875 -1.421875 11.734375 6.484375 \nQ 5.515625 14.40625 5.515625 27.296875 \nQ 5.515625 40.1875 11.734375 48.09375 \nQ 17.96875 56 27.875 56 \nQ 33.9375 56 38.25 53.625 \nQ 42.578125 51.265625 45.40625 46.390625 \nz\nM 14.796875 27.296875 \nQ 14.796875 17.390625 18.875 11.75 \nQ 22.953125 6.109375 30.078125 6.109375 \nQ 37.203125 6.109375 41.296875 11.75 \nQ 45.40625 17.390625 45.40625 27.296875 \nQ 45.40625 37.203125 41.296875 42.84375 \nQ 37.203125 48.484375 30.078125 48.484375 \nQ 22.953125 48.484375 18.875 42.84375 \nQ 14.796875 37.203125 14.796875 27.296875 \nz\n\" id=\"DejaVuSans-100\"/>\n      </defs>\n      <g style=\"fill:#262626;\" transform=\"translate(655.11875 590.3325)scale(0.16 -0.16)\">\n       <use xlink:href=\"#DejaVuSans-77\"/>\n       <use x=\"86.279297\" xlink:href=\"#DejaVuSans-233\"/>\n       <use x=\"147.802734\" xlink:href=\"#DejaVuSans-100\"/>\n       <use x=\"211.279297\" xlink:href=\"#DejaVuSans-105\"/>\n       <use x=\"239.0625\" xlink:href=\"#DejaVuSans-97\"/>\n      </g>\n     </g>\n    </g>\n    <g id=\"text_5\">\n     <!-- GRAVIDADE -->\n     <defs>\n      <path d=\"M 44.390625 34.1875 \nQ 47.5625 33.109375 50.5625 29.59375 \nQ 53.5625 26.078125 56.59375 19.921875 \nL 66.609375 0 \nL 56 0 \nL 46.6875 18.703125 \nQ 43.0625 26.03125 39.671875 28.421875 \nQ 36.28125 30.8125 30.421875 30.8125 \nL 19.671875 30.8125 \nL 19.671875 0 \nL 9.8125 0 \nL 9.8125 72.90625 \nL 32.078125 72.90625 \nQ 44.578125 72.90625 50.734375 67.671875 \nQ 56.890625 62.453125 56.890625 51.90625 \nQ 56.890625 45.015625 53.6875 40.46875 \nQ 50.484375 35.9375 44.390625 34.1875 \nz\nM 19.671875 64.796875 \nL 19.671875 38.921875 \nL 32.078125 38.921875 \nQ 39.203125 38.921875 42.84375 42.21875 \nQ 46.484375 45.515625 46.484375 51.90625 \nQ 46.484375 58.296875 42.84375 61.546875 \nQ 39.203125 64.796875 32.078125 64.796875 \nz\n\" id=\"DejaVuSans-82\"/>\n      <path d=\"M 34.1875 63.1875 \nL 20.796875 26.90625 \nL 47.609375 26.90625 \nz\nM 28.609375 72.90625 \nL 39.796875 72.90625 \nL 67.578125 0 \nL 57.328125 0 \nL 50.6875 18.703125 \nL 17.828125 18.703125 \nL 11.1875 0 \nL 0.78125 0 \nz\n\" id=\"DejaVuSans-65\"/>\n      <path d=\"M 28.609375 0 \nL 0.78125 72.90625 \nL 11.078125 72.90625 \nL 34.1875 11.53125 \nL 57.328125 72.90625 \nL 67.578125 72.90625 \nL 39.796875 0 \nz\n\" id=\"DejaVuSans-86\"/>\n      <path d=\"M 9.8125 72.90625 \nL 19.671875 72.90625 \nL 19.671875 0 \nL 9.8125 0 \nz\n\" id=\"DejaVuSans-73\"/>\n      <path d=\"M 19.671875 64.796875 \nL 19.671875 8.109375 \nL 31.59375 8.109375 \nQ 46.6875 8.109375 53.6875 14.9375 \nQ 60.6875 21.78125 60.6875 36.53125 \nQ 60.6875 51.171875 53.6875 57.984375 \nQ 46.6875 64.796875 31.59375 64.796875 \nz\nM 9.8125 72.90625 \nL 30.078125 72.90625 \nQ 51.265625 72.90625 61.171875 64.09375 \nQ 71.09375 55.28125 71.09375 36.53125 \nQ 71.09375 17.671875 61.125 8.828125 \nQ 51.171875 0 30.078125 0 \nL 9.8125 0 \nz\n\" id=\"DejaVuSans-68\"/>\n      <path d=\"M 9.8125 72.90625 \nL 55.90625 72.90625 \nL 55.90625 64.59375 \nL 19.671875 64.59375 \nL 19.671875 43.015625 \nL 54.390625 43.015625 \nL 54.390625 34.71875 \nL 19.671875 34.71875 \nL 19.671875 8.296875 \nL 56.78125 8.296875 \nL 56.78125 0 \nL 9.8125 0 \nz\n\" id=\"DejaVuSans-69\"/>\n     </defs>\n     <g style=\"fill:#262626;\" transform=\"translate(381.1075 620.8175)scale(0.16 -0.16)\">\n      <use xlink:href=\"#DejaVuSans-71\"/>\n      <use x=\"77.490234\" xlink:href=\"#DejaVuSans-82\"/>\n      <use x=\"142.972656\" xlink:href=\"#DejaVuSans-65\"/>\n      <use x=\"205.005859\" xlink:href=\"#DejaVuSans-86\"/>\n      <use x=\"273.414062\" xlink:href=\"#DejaVuSans-73\"/>\n      <use x=\"302.90625\" xlink:href=\"#DejaVuSans-68\"/>\n      <use x=\"378.158203\" xlink:href=\"#DejaVuSans-65\"/>\n      <use x=\"446.566406\" xlink:href=\"#DejaVuSans-68\"/>\n      <use x=\"523.568359\" xlink:href=\"#DejaVuSans-69\"/>\n     </g>\n    </g>\n   </g>\n   <g id=\"matplotlib.axis_2\">\n    <g id=\"ytick_1\">\n     <g id=\"line2d_5\">\n      <path clip-path=\"url(#p1824715a81)\" d=\"M 93.2475 568.675 \nL 762.8475 568.675 \n\" style=\"fill:none;stroke:#ffffff;stroke-linecap:round;\"/>\n     </g>\n     <g id=\"text_6\">\n      <!-- 0 -->\n      <defs>\n       <path d=\"M 31.78125 66.40625 \nQ 24.171875 66.40625 20.328125 58.90625 \nQ 16.5 51.421875 16.5 36.375 \nQ 16.5 21.390625 20.328125 13.890625 \nQ 24.171875 6.390625 31.78125 6.390625 \nQ 39.453125 6.390625 43.28125 13.890625 \nQ 47.125 21.390625 47.125 36.375 \nQ 47.125 51.421875 43.28125 58.90625 \nQ 39.453125 66.40625 31.78125 66.40625 \nz\nM 31.78125 74.21875 \nQ 44.046875 74.21875 50.515625 64.515625 \nQ 56.984375 54.828125 56.984375 36.375 \nQ 56.984375 17.96875 50.515625 8.265625 \nQ 44.046875 -1.421875 31.78125 -1.421875 \nQ 19.53125 -1.421875 13.0625 8.265625 \nQ 6.59375 17.96875 6.59375 36.375 \nQ 6.59375 54.828125 13.0625 64.515625 \nQ 19.53125 74.21875 31.78125 74.21875 \nz\n\" id=\"DejaVuSans-48\"/>\n      </defs>\n      <g style=\"fill:#262626;\" transform=\"translate(73.5675 574.75375)scale(0.16 -0.16)\">\n       <use xlink:href=\"#DejaVuSans-48\"/>\n      </g>\n     </g>\n    </g>\n    <g id=\"ytick_2\">\n     <g id=\"line2d_6\">\n      <path clip-path=\"url(#p1824715a81)\" d=\"M 93.2475 459.415696 \nL 762.8475 459.415696 \n\" style=\"fill:none;stroke:#ffffff;stroke-linecap:round;\"/>\n     </g>\n     <g id=\"text_7\">\n      <!-- 10000 -->\n      <defs>\n       <path d=\"M 12.40625 8.296875 \nL 28.515625 8.296875 \nL 28.515625 63.921875 \nL 10.984375 60.40625 \nL 10.984375 69.390625 \nL 28.421875 72.90625 \nL 38.28125 72.90625 \nL 38.28125 8.296875 \nL 54.390625 8.296875 \nL 54.390625 0 \nL 12.40625 0 \nz\n\" id=\"DejaVuSans-49\"/>\n      </defs>\n      <g style=\"fill:#262626;\" transform=\"translate(32.8475 465.494446)scale(0.16 -0.16)\">\n       <use xlink:href=\"#DejaVuSans-49\"/>\n       <use x=\"63.623047\" xlink:href=\"#DejaVuSans-48\"/>\n       <use x=\"127.246094\" xlink:href=\"#DejaVuSans-48\"/>\n       <use x=\"190.869141\" xlink:href=\"#DejaVuSans-48\"/>\n       <use x=\"254.492188\" xlink:href=\"#DejaVuSans-48\"/>\n      </g>\n     </g>\n    </g>\n    <g id=\"ytick_3\">\n     <g id=\"line2d_7\">\n      <path clip-path=\"url(#p1824715a81)\" d=\"M 93.2475 350.156392 \nL 762.8475 350.156392 \n\" style=\"fill:none;stroke:#ffffff;stroke-linecap:round;\"/>\n     </g>\n     <g id=\"text_8\">\n      <!-- 20000 -->\n      <defs>\n       <path d=\"M 19.1875 8.296875 \nL 53.609375 8.296875 \nL 53.609375 0 \nL 7.328125 0 \nL 7.328125 8.296875 \nQ 12.9375 14.109375 22.625 23.890625 \nQ 32.328125 33.6875 34.8125 36.53125 \nQ 39.546875 41.84375 41.421875 45.53125 \nQ 43.3125 49.21875 43.3125 52.78125 \nQ 43.3125 58.59375 39.234375 62.25 \nQ 35.15625 65.921875 28.609375 65.921875 \nQ 23.96875 65.921875 18.8125 64.3125 \nQ 13.671875 62.703125 7.8125 59.421875 \nL 7.8125 69.390625 \nQ 13.765625 71.78125 18.9375 73 \nQ 24.125 74.21875 28.421875 74.21875 \nQ 39.75 74.21875 46.484375 68.546875 \nQ 53.21875 62.890625 53.21875 53.421875 \nQ 53.21875 48.921875 51.53125 44.890625 \nQ 49.859375 40.875 45.40625 35.40625 \nQ 44.1875 33.984375 37.640625 27.21875 \nQ 31.109375 20.453125 19.1875 8.296875 \nz\n\" id=\"DejaVuSans-50\"/>\n      </defs>\n      <g style=\"fill:#262626;\" transform=\"translate(32.8475 356.235142)scale(0.16 -0.16)\">\n       <use xlink:href=\"#DejaVuSans-50\"/>\n       <use x=\"63.623047\" xlink:href=\"#DejaVuSans-48\"/>\n       <use x=\"127.246094\" xlink:href=\"#DejaVuSans-48\"/>\n       <use x=\"190.869141\" xlink:href=\"#DejaVuSans-48\"/>\n       <use x=\"254.492188\" xlink:href=\"#DejaVuSans-48\"/>\n      </g>\n     </g>\n    </g>\n    <g id=\"ytick_4\">\n     <g id=\"line2d_8\">\n      <path clip-path=\"url(#p1824715a81)\" d=\"M 93.2475 240.897088 \nL 762.8475 240.897088 \n\" style=\"fill:none;stroke:#ffffff;stroke-linecap:round;\"/>\n     </g>\n     <g id=\"text_9\">\n      <!-- 30000 -->\n      <defs>\n       <path d=\"M 40.578125 39.3125 \nQ 47.65625 37.796875 51.625 33 \nQ 55.609375 28.21875 55.609375 21.1875 \nQ 55.609375 10.40625 48.1875 4.484375 \nQ 40.765625 -1.421875 27.09375 -1.421875 \nQ 22.515625 -1.421875 17.65625 -0.515625 \nQ 12.796875 0.390625 7.625 2.203125 \nL 7.625 11.71875 \nQ 11.71875 9.328125 16.59375 8.109375 \nQ 21.484375 6.890625 26.8125 6.890625 \nQ 36.078125 6.890625 40.9375 10.546875 \nQ 45.796875 14.203125 45.796875 21.1875 \nQ 45.796875 27.640625 41.28125 31.265625 \nQ 36.765625 34.90625 28.71875 34.90625 \nL 20.21875 34.90625 \nL 20.21875 43.015625 \nL 29.109375 43.015625 \nQ 36.375 43.015625 40.234375 45.921875 \nQ 44.09375 48.828125 44.09375 54.296875 \nQ 44.09375 59.90625 40.109375 62.90625 \nQ 36.140625 65.921875 28.71875 65.921875 \nQ 24.65625 65.921875 20.015625 65.03125 \nQ 15.375 64.15625 9.8125 62.3125 \nL 9.8125 71.09375 \nQ 15.4375 72.65625 20.34375 73.4375 \nQ 25.25 74.21875 29.59375 74.21875 \nQ 40.828125 74.21875 47.359375 69.109375 \nQ 53.90625 64.015625 53.90625 55.328125 \nQ 53.90625 49.265625 50.4375 45.09375 \nQ 46.96875 40.921875 40.578125 39.3125 \nz\n\" id=\"DejaVuSans-51\"/>\n      </defs>\n      <g style=\"fill:#262626;\" transform=\"translate(32.8475 246.975838)scale(0.16 -0.16)\">\n       <use xlink:href=\"#DejaVuSans-51\"/>\n       <use x=\"63.623047\" xlink:href=\"#DejaVuSans-48\"/>\n       <use x=\"127.246094\" xlink:href=\"#DejaVuSans-48\"/>\n       <use x=\"190.869141\" xlink:href=\"#DejaVuSans-48\"/>\n       <use x=\"254.492188\" xlink:href=\"#DejaVuSans-48\"/>\n      </g>\n     </g>\n    </g>\n    <g id=\"ytick_5\">\n     <g id=\"line2d_9\">\n      <path clip-path=\"url(#p1824715a81)\" d=\"M 93.2475 131.637784 \nL 762.8475 131.637784 \n\" style=\"fill:none;stroke:#ffffff;stroke-linecap:round;\"/>\n     </g>\n     <g id=\"text_10\">\n      <!-- 40000 -->\n      <defs>\n       <path d=\"M 37.796875 64.3125 \nL 12.890625 25.390625 \nL 37.796875 25.390625 \nz\nM 35.203125 72.90625 \nL 47.609375 72.90625 \nL 47.609375 25.390625 \nL 58.015625 25.390625 \nL 58.015625 17.1875 \nL 47.609375 17.1875 \nL 47.609375 0 \nL 37.796875 0 \nL 37.796875 17.1875 \nL 4.890625 17.1875 \nL 4.890625 26.703125 \nz\n\" id=\"DejaVuSans-52\"/>\n      </defs>\n      <g style=\"fill:#262626;\" transform=\"translate(32.8475 137.716534)scale(0.16 -0.16)\">\n       <use xlink:href=\"#DejaVuSans-52\"/>\n       <use x=\"63.623047\" xlink:href=\"#DejaVuSans-48\"/>\n       <use x=\"127.246094\" xlink:href=\"#DejaVuSans-48\"/>\n       <use x=\"190.869141\" xlink:href=\"#DejaVuSans-48\"/>\n       <use x=\"254.492188\" xlink:href=\"#DejaVuSans-48\"/>\n      </g>\n     </g>\n    </g>\n    <g id=\"text_11\">\n     <!-- QTD_INFRACOES -->\n     <defs>\n      <path d=\"M 39.40625 66.21875 \nQ 28.65625 66.21875 22.328125 58.203125 \nQ 16.015625 50.203125 16.015625 36.375 \nQ 16.015625 22.609375 22.328125 14.59375 \nQ 28.65625 6.59375 39.40625 6.59375 \nQ 50.140625 6.59375 56.421875 14.59375 \nQ 62.703125 22.609375 62.703125 36.375 \nQ 62.703125 50.203125 56.421875 58.203125 \nQ 50.140625 66.21875 39.40625 66.21875 \nz\nM 53.21875 1.3125 \nL 66.21875 -12.890625 \nL 54.296875 -12.890625 \nL 43.5 -1.21875 \nQ 41.890625 -1.3125 41.03125 -1.359375 \nQ 40.1875 -1.421875 39.40625 -1.421875 \nQ 24.03125 -1.421875 14.8125 8.859375 \nQ 5.609375 19.140625 5.609375 36.375 \nQ 5.609375 53.65625 14.8125 63.9375 \nQ 24.03125 74.21875 39.40625 74.21875 \nQ 54.734375 74.21875 63.90625 63.9375 \nQ 73.09375 53.65625 73.09375 36.375 \nQ 73.09375 23.6875 67.984375 14.640625 \nQ 62.890625 5.609375 53.21875 1.3125 \nz\n\" id=\"DejaVuSans-81\"/>\n      <path d=\"M -0.296875 72.90625 \nL 61.375 72.90625 \nL 61.375 64.59375 \nL 35.5 64.59375 \nL 35.5 0 \nL 25.59375 0 \nL 25.59375 64.59375 \nL -0.296875 64.59375 \nz\n\" id=\"DejaVuSans-84\"/>\n      <path d=\"M 50.984375 -16.609375 \nL 50.984375 -23.578125 \nL -0.984375 -23.578125 \nL -0.984375 -16.609375 \nz\n\" id=\"DejaVuSans-95\"/>\n      <path d=\"M 9.8125 72.90625 \nL 23.09375 72.90625 \nL 55.421875 11.921875 \nL 55.421875 72.90625 \nL 64.984375 72.90625 \nL 64.984375 0 \nL 51.703125 0 \nL 19.390625 60.984375 \nL 19.390625 0 \nL 9.8125 0 \nz\n\" id=\"DejaVuSans-78\"/>\n      <path d=\"M 9.8125 72.90625 \nL 51.703125 72.90625 \nL 51.703125 64.59375 \nL 19.671875 64.59375 \nL 19.671875 43.109375 \nL 48.578125 43.109375 \nL 48.578125 34.8125 \nL 19.671875 34.8125 \nL 19.671875 0 \nL 9.8125 0 \nz\n\" id=\"DejaVuSans-70\"/>\n      <path d=\"M 64.40625 67.28125 \nL 64.40625 56.890625 \nQ 59.421875 61.53125 53.78125 63.8125 \nQ 48.140625 66.109375 41.796875 66.109375 \nQ 29.296875 66.109375 22.65625 58.46875 \nQ 16.015625 50.828125 16.015625 36.375 \nQ 16.015625 21.96875 22.65625 14.328125 \nQ 29.296875 6.6875 41.796875 6.6875 \nQ 48.140625 6.6875 53.78125 8.984375 \nQ 59.421875 11.28125 64.40625 15.921875 \nL 64.40625 5.609375 \nQ 59.234375 2.09375 53.4375 0.328125 \nQ 47.65625 -1.421875 41.21875 -1.421875 \nQ 24.65625 -1.421875 15.125 8.703125 \nQ 5.609375 18.84375 5.609375 36.375 \nQ 5.609375 53.953125 15.125 64.078125 \nQ 24.65625 74.21875 41.21875 74.21875 \nQ 47.75 74.21875 53.53125 72.484375 \nQ 59.328125 70.75 64.40625 67.28125 \nz\n\" id=\"DejaVuSans-67\"/>\n      <path d=\"M 39.40625 66.21875 \nQ 28.65625 66.21875 22.328125 58.203125 \nQ 16.015625 50.203125 16.015625 36.375 \nQ 16.015625 22.609375 22.328125 14.59375 \nQ 28.65625 6.59375 39.40625 6.59375 \nQ 50.140625 6.59375 56.421875 14.59375 \nQ 62.703125 22.609375 62.703125 36.375 \nQ 62.703125 50.203125 56.421875 58.203125 \nQ 50.140625 66.21875 39.40625 66.21875 \nz\nM 39.40625 74.21875 \nQ 54.734375 74.21875 63.90625 63.9375 \nQ 73.09375 53.65625 73.09375 36.375 \nQ 73.09375 19.140625 63.90625 8.859375 \nQ 54.734375 -1.421875 39.40625 -1.421875 \nQ 24.03125 -1.421875 14.8125 8.828125 \nQ 5.609375 19.09375 5.609375 36.375 \nQ 5.609375 53.65625 14.8125 63.9375 \nQ 24.03125 74.21875 39.40625 74.21875 \nz\n\" id=\"DejaVuSans-79\"/>\n      <path d=\"M 53.515625 70.515625 \nL 53.515625 60.890625 \nQ 47.90625 63.578125 42.921875 64.890625 \nQ 37.9375 66.21875 33.296875 66.21875 \nQ 25.25 66.21875 20.875 63.09375 \nQ 16.5 59.96875 16.5 54.203125 \nQ 16.5 49.359375 19.40625 46.890625 \nQ 22.3125 44.4375 30.421875 42.921875 \nL 36.375 41.703125 \nQ 47.40625 39.59375 52.65625 34.296875 \nQ 57.90625 29 57.90625 20.125 \nQ 57.90625 9.515625 50.796875 4.046875 \nQ 43.703125 -1.421875 29.984375 -1.421875 \nQ 24.8125 -1.421875 18.96875 -0.25 \nQ 13.140625 0.921875 6.890625 3.21875 \nL 6.890625 13.375 \nQ 12.890625 10.015625 18.65625 8.296875 \nQ 24.421875 6.59375 29.984375 6.59375 \nQ 38.421875 6.59375 43.015625 9.90625 \nQ 47.609375 13.234375 47.609375 19.390625 \nQ 47.609375 24.75 44.3125 27.78125 \nQ 41.015625 30.8125 33.5 32.328125 \nL 27.484375 33.5 \nQ 16.453125 35.6875 11.515625 40.375 \nQ 6.59375 45.0625 6.59375 53.421875 \nQ 6.59375 63.09375 13.40625 68.65625 \nQ 20.21875 74.21875 32.171875 74.21875 \nQ 37.3125 74.21875 42.625 73.28125 \nQ 47.953125 72.359375 53.515625 70.515625 \nz\n\" id=\"DejaVuSans-83\"/>\n     </defs>\n     <g style=\"fill:#262626;\" transform=\"translate(19.075 363.75375)rotate(-90)scale(0.16 -0.16)\">\n      <use xlink:href=\"#DejaVuSans-81\"/>\n      <use x=\"78.710938\" xlink:href=\"#DejaVuSans-84\"/>\n      <use x=\"139.794922\" xlink:href=\"#DejaVuSans-68\"/>\n      <use x=\"216.796875\" xlink:href=\"#DejaVuSans-95\"/>\n      <use x=\"266.796875\" xlink:href=\"#DejaVuSans-73\"/>\n      <use x=\"296.289062\" xlink:href=\"#DejaVuSans-78\"/>\n      <use x=\"371.09375\" xlink:href=\"#DejaVuSans-70\"/>\n      <use x=\"428.613281\" xlink:href=\"#DejaVuSans-82\"/>\n      <use x=\"494.095703\" xlink:href=\"#DejaVuSans-65\"/>\n      <use x=\"560.753906\" xlink:href=\"#DejaVuSans-67\"/>\n      <use x=\"630.578125\" xlink:href=\"#DejaVuSans-79\"/>\n      <use x=\"709.289062\" xlink:href=\"#DejaVuSans-69\"/>\n      <use x=\"772.472656\" xlink:href=\"#DejaVuSans-83\"/>\n     </g>\n    </g>\n   </g>\n   <g id=\"patch_3\">\n    <path clip-path=\"url(#p1824715a81)\" d=\"M 135.0975 568.675 \nL 176.9475 568.675 \nL 176.9475 439.978466 \nL 135.0975 439.978466 \nz\n\" style=\"fill:#4c72b0;stroke:#ffffff;stroke-linejoin:miter;\"/>\n   </g>\n   <g id=\"patch_4\">\n    <path clip-path=\"url(#p1824715a81)\" d=\"M 302.4975 568.675 \nL 344.3475 568.675 \nL 344.3475 452.368471 \nL 302.4975 452.368471 \nz\n\" style=\"fill:#4c72b0;stroke:#ffffff;stroke-linejoin:miter;\"/>\n   </g>\n   <g id=\"patch_5\">\n    <path clip-path=\"url(#p1824715a81)\" d=\"M 469.8975 568.675 \nL 511.7475 568.675 \nL 511.7475 454.586435 \nL 469.8975 454.586435 \nz\n\" style=\"fill:#4c72b0;stroke:#ffffff;stroke-linejoin:miter;\"/>\n   </g>\n   <g id=\"patch_6\">\n    <path clip-path=\"url(#p1824715a81)\" d=\"M 637.2975 568.675 \nL 679.1475 568.675 \nL 679.1475 50.960714 \nL 637.2975 50.960714 \nz\n\" style=\"fill:#4c72b0;stroke:#ffffff;stroke-linejoin:miter;\"/>\n   </g>\n   <g id=\"patch_7\">\n    <path clip-path=\"url(#p1824715a81)\" d=\"M 176.9475 568.675 \nL 218.7975 568.675 \nL 218.7975 506.517382 \nL 176.9475 506.517382 \nz\n\" style=\"fill:#dd8452;stroke:#ffffff;stroke-linejoin:miter;\"/>\n   </g>\n   <g id=\"patch_8\">\n    <path clip-path=\"url(#p1824715a81)\" d=\"M 344.3475 568.675 \nL 386.1975 568.675 \nL 386.1975 521.267388 \nL 344.3475 521.267388 \nz\n\" style=\"fill:#dd8452;stroke:#ffffff;stroke-linejoin:miter;\"/>\n   </g>\n   <g id=\"patch_9\">\n    <path clip-path=\"url(#p1824715a81)\" d=\"M 511.7475 568.675 \nL 553.5975 568.675 \nL 553.5975 487.681078 \nL 511.7475 487.681078 \nz\n\" style=\"fill:#dd8452;stroke:#ffffff;stroke-linejoin:miter;\"/>\n   </g>\n   <g id=\"patch_10\">\n    <path clip-path=\"url(#p1824715a81)\" d=\"M 679.1475 568.675 \nL 720.9975 568.675 \nL 720.9975 183.601509 \nL 679.1475 183.601509 \nz\n\" style=\"fill:#dd8452;stroke:#ffffff;stroke-linejoin:miter;\"/>\n   </g>\n   <g id=\"patch_11\">\n    <path d=\"M 93.2475 568.675 \nL 93.2475 25.075 \n\" style=\"fill:none;stroke:#ffffff;stroke-linecap:square;stroke-linejoin:miter;stroke-width:1.25;\"/>\n   </g>\n   <g id=\"patch_12\">\n    <path d=\"M 762.8475 568.675 \nL 762.8475 25.075 \n\" style=\"fill:none;stroke:#ffffff;stroke-linecap:square;stroke-linejoin:miter;stroke-width:1.25;\"/>\n   </g>\n   <g id=\"patch_13\">\n    <path d=\"M 93.2475 568.675 \nL 762.8475 568.675 \n\" style=\"fill:none;stroke:#ffffff;stroke-linecap:square;stroke-linejoin:miter;stroke-width:1.25;\"/>\n   </g>\n   <g id=\"patch_14\">\n    <path d=\"M 93.2475 25.075 \nL 762.8475 25.075 \n\" style=\"fill:none;stroke:#ffffff;stroke-linecap:square;stroke-linejoin:miter;stroke-width:1.25;\"/>\n   </g>\n   <g id=\"text_12\">\n    <!-- QTD_INFRACOES X GRAVIDADE -->\n    <defs>\n     <path id=\"DejaVuSans-32\"/>\n     <path d=\"M 6.296875 72.90625 \nL 16.890625 72.90625 \nL 35.015625 45.796875 \nL 53.21875 72.90625 \nL 63.8125 72.90625 \nL 40.375 37.890625 \nL 65.375 0 \nL 54.78125 0 \nL 34.28125 31 \nL 13.625 0 \nL 2.984375 0 \nL 29 38.921875 \nz\n\" id=\"DejaVuSans-88\"/>\n    </defs>\n    <g style=\"fill:#262626;\" transform=\"translate(303.66375 19.075)scale(0.16 -0.16)\">\n     <use xlink:href=\"#DejaVuSans-81\"/>\n     <use x=\"78.710938\" xlink:href=\"#DejaVuSans-84\"/>\n     <use x=\"139.794922\" xlink:href=\"#DejaVuSans-68\"/>\n     <use x=\"216.796875\" xlink:href=\"#DejaVuSans-95\"/>\n     <use x=\"266.796875\" xlink:href=\"#DejaVuSans-73\"/>\n     <use x=\"296.289062\" xlink:href=\"#DejaVuSans-78\"/>\n     <use x=\"371.09375\" xlink:href=\"#DejaVuSans-70\"/>\n     <use x=\"428.613281\" xlink:href=\"#DejaVuSans-82\"/>\n     <use x=\"494.095703\" xlink:href=\"#DejaVuSans-65\"/>\n     <use x=\"560.753906\" xlink:href=\"#DejaVuSans-67\"/>\n     <use x=\"630.578125\" xlink:href=\"#DejaVuSans-79\"/>\n     <use x=\"709.289062\" xlink:href=\"#DejaVuSans-69\"/>\n     <use x=\"772.472656\" xlink:href=\"#DejaVuSans-83\"/>\n     <use x=\"835.949219\" xlink:href=\"#DejaVuSans-32\"/>\n     <use x=\"867.736328\" xlink:href=\"#DejaVuSans-88\"/>\n     <use x=\"936.242188\" xlink:href=\"#DejaVuSans-32\"/>\n     <use x=\"968.029297\" xlink:href=\"#DejaVuSans-71\"/>\n     <use x=\"1045.519531\" xlink:href=\"#DejaVuSans-82\"/>\n     <use x=\"1111.001953\" xlink:href=\"#DejaVuSans-65\"/>\n     <use x=\"1173.035156\" xlink:href=\"#DejaVuSans-86\"/>\n     <use x=\"1241.443359\" xlink:href=\"#DejaVuSans-73\"/>\n     <use x=\"1270.935547\" xlink:href=\"#DejaVuSans-68\"/>\n     <use x=\"1346.1875\" xlink:href=\"#DejaVuSans-65\"/>\n     <use x=\"1414.595703\" xlink:href=\"#DejaVuSans-68\"/>\n     <use x=\"1491.597656\" xlink:href=\"#DejaVuSans-69\"/>\n    </g>\n   </g>\n   <g id=\"legend_1\">\n    <g id=\"patch_15\">\n     <path d=\"M 104.0275 82.603625 \nL 242.613062 82.603625 \nQ 245.693062 82.603625 245.693062 79.523625 \nL 245.693062 35.855 \nQ 245.693062 32.775 242.613062 32.775 \nL 104.0275 32.775 \nQ 100.9475 32.775 100.9475 35.855 \nL 100.9475 79.523625 \nQ 100.9475 82.603625 104.0275 82.603625 \nz\n\" style=\"fill:#eaeaf2;opacity:0.8;stroke:#cccccc;stroke-linejoin:miter;\"/>\n    </g>\n    <g id=\"patch_16\">\n     <path d=\"M 107.1075 50.636594 \nL 137.9075 50.636594 \nL 137.9075 39.856594 \nL 107.1075 39.856594 \nz\n\" style=\"fill:#4c72b0;stroke:#ffffff;stroke-linejoin:miter;\"/>\n    </g>\n    <g id=\"text_13\">\n     <!-- ABRIL/2019 -->\n     <defs>\n      <path d=\"M 19.671875 34.8125 \nL 19.671875 8.109375 \nL 35.5 8.109375 \nQ 43.453125 8.109375 47.28125 11.40625 \nQ 51.125 14.703125 51.125 21.484375 \nQ 51.125 28.328125 47.28125 31.5625 \nQ 43.453125 34.8125 35.5 34.8125 \nz\nM 19.671875 64.796875 \nL 19.671875 42.828125 \nL 34.28125 42.828125 \nQ 41.5 42.828125 45.03125 45.53125 \nQ 48.578125 48.25 48.578125 53.8125 \nQ 48.578125 59.328125 45.03125 62.0625 \nQ 41.5 64.796875 34.28125 64.796875 \nz\nM 9.8125 72.90625 \nL 35.015625 72.90625 \nQ 46.296875 72.90625 52.390625 68.21875 \nQ 58.5 63.53125 58.5 54.890625 \nQ 58.5 48.1875 55.375 44.234375 \nQ 52.25 40.28125 46.1875 39.3125 \nQ 53.46875 37.75 57.5 32.78125 \nQ 61.53125 27.828125 61.53125 20.40625 \nQ 61.53125 10.640625 54.890625 5.3125 \nQ 48.25 0 35.984375 0 \nL 9.8125 0 \nz\n\" id=\"DejaVuSans-66\"/>\n      <path d=\"M 25.390625 72.90625 \nL 33.6875 72.90625 \nL 8.296875 -9.28125 \nL 0 -9.28125 \nz\n\" id=\"DejaVuSans-47\"/>\n      <path d=\"M 10.984375 1.515625 \nL 10.984375 10.5 \nQ 14.703125 8.734375 18.5 7.8125 \nQ 22.3125 6.890625 25.984375 6.890625 \nQ 35.75 6.890625 40.890625 13.453125 \nQ 46.046875 20.015625 46.78125 33.40625 \nQ 43.953125 29.203125 39.59375 26.953125 \nQ 35.25 24.703125 29.984375 24.703125 \nQ 19.046875 24.703125 12.671875 31.3125 \nQ 6.296875 37.9375 6.296875 49.421875 \nQ 6.296875 60.640625 12.9375 67.421875 \nQ 19.578125 74.21875 30.609375 74.21875 \nQ 43.265625 74.21875 49.921875 64.515625 \nQ 56.59375 54.828125 56.59375 36.375 \nQ 56.59375 19.140625 48.40625 8.859375 \nQ 40.234375 -1.421875 26.421875 -1.421875 \nQ 22.703125 -1.421875 18.890625 -0.6875 \nQ 15.09375 0.046875 10.984375 1.515625 \nz\nM 30.609375 32.421875 \nQ 37.25 32.421875 41.125 36.953125 \nQ 45.015625 41.5 45.015625 49.421875 \nQ 45.015625 57.28125 41.125 61.84375 \nQ 37.25 66.40625 30.609375 66.40625 \nQ 23.96875 66.40625 20.09375 61.84375 \nQ 16.21875 57.28125 16.21875 49.421875 \nQ 16.21875 41.5 20.09375 36.953125 \nQ 23.96875 32.421875 30.609375 32.421875 \nz\n\" id=\"DejaVuSans-57\"/>\n     </defs>\n     <g style=\"fill:#262626;\" transform=\"translate(150.2275 50.636594)scale(0.154 -0.154)\">\n      <use xlink:href=\"#DejaVuSans-65\"/>\n      <use x=\"68.408203\" xlink:href=\"#DejaVuSans-66\"/>\n      <use x=\"137.011719\" xlink:href=\"#DejaVuSans-82\"/>\n      <use x=\"206.494141\" xlink:href=\"#DejaVuSans-73\"/>\n      <use x=\"235.986328\" xlink:href=\"#DejaVuSans-76\"/>\n      <use x=\"291.699219\" xlink:href=\"#DejaVuSans-47\"/>\n      <use x=\"325.390625\" xlink:href=\"#DejaVuSans-50\"/>\n      <use x=\"389.013672\" xlink:href=\"#DejaVuSans-48\"/>\n      <use x=\"452.636719\" xlink:href=\"#DejaVuSans-49\"/>\n      <use x=\"516.259766\" xlink:href=\"#DejaVuSans-57\"/>\n     </g>\n    </g>\n    <g id=\"patch_17\">\n     <path d=\"M 107.1075 73.240906 \nL 137.9075 73.240906 \nL 137.9075 62.460906 \nL 107.1075 62.460906 \nz\n\" style=\"fill:#dd8452;stroke:#ffffff;stroke-linejoin:miter;\"/>\n    </g>\n    <g id=\"text_14\">\n     <!-- ABRIL/2020 -->\n     <g style=\"fill:#262626;\" transform=\"translate(150.2275 73.240906)scale(0.154 -0.154)\">\n      <use xlink:href=\"#DejaVuSans-65\"/>\n      <use x=\"68.408203\" xlink:href=\"#DejaVuSans-66\"/>\n      <use x=\"137.011719\" xlink:href=\"#DejaVuSans-82\"/>\n      <use x=\"206.494141\" xlink:href=\"#DejaVuSans-73\"/>\n      <use x=\"235.986328\" xlink:href=\"#DejaVuSans-76\"/>\n      <use x=\"291.699219\" xlink:href=\"#DejaVuSans-47\"/>\n      <use x=\"325.390625\" xlink:href=\"#DejaVuSans-50\"/>\n      <use x=\"389.013672\" xlink:href=\"#DejaVuSans-48\"/>\n      <use x=\"452.636719\" xlink:href=\"#DejaVuSans-50\"/>\n      <use x=\"516.259766\" xlink:href=\"#DejaVuSans-48\"/>\n     </g>\n    </g>\n   </g>\n  </g>\n </g>\n <defs>\n  <clipPath id=\"p1824715a81\">\n   <rect height=\"543.6\" width=\"669.6\" x=\"93.2475\" y=\"25.075\"/>\n  </clipPath>\n </defs>\n</svg>\n",
      "image/png": "[encoded data removed]"
     },
     "metadata": {}
    }
   ],
   "source": [
    "#grafico de barras, qtd de infracos por tipo_gravidade\n",
    "\n",
    "ax = plt.gca()\n",
    "sns.set(font_scale=1.4)\n",
    "df_multa_gravidade_abril = df_infracoes_abril.groupby('grav_tipo', as_index=False)['tipo_infracao'].count()\n",
    "df_multa_gravidade_abril2019 = df_infracoes_abril_2019.groupby('grav_tipo', as_index=False)['tipo_infracao'].count()\n",
    "\n",
    "df_multa_gravidade = pd.DataFrame({\n",
    "    \"ABRIL/2019\": df_multa_gravidade_abril2019['tipo_infracao'].to_list(),\n",
    "    \"ABRIL/2020\": df_multa_gravidade_abril['tipo_infracao'].to_list()\n",
    "}, index=df_multa_gravidade_abril['grav_tipo'].to_list())\n",
    "\n",
    "df_multa_gravidade.plot(ax=ax, kind=\"bar\", fontsize=16, figsize=(12, 10))\n",
    "plt.title(\"QTD_INFRACOES X GRAVIDADE\", fontsize=16)\n",
    "plt.ylabel('QTD_INFRACOES', labelpad=10, fontsize=16)\n",
    "plt.xlabel('GRAVIDADE', labelpad=15, fontsize=16)\n",
    "plt.xticks(rotation=0)\n",
    "plt.show()"
   ]
  },
  {
   "cell_type": "code",
   "execution_count": 9,
   "metadata": {},
   "outputs": [
    {
     "output_type": "display_data",
     "data": {
      "application/vnd.plotly.v1+json": {
       "config": {
        "plotlyServerURL": "https://plot.ly"
       },
       "data": [
        {
         "branchvalues": "total",
         "domain": {
          "x": [
           0,
           1
          ],
          "y": [
           0,
           1
          ]
         },
         "hovertemplate": "labels=%{label}<br>value=%{value}<br>parent=%{parent}<br>id=%{id}<extra></extra>",
         "ids": [
          "Atirar do veículo objetos ou substâncias",
          "Avançar o sinal de parada obrigatória",
          "Avançar o sinal vermelho do semáforo",
          "Avançar o sinal vermelho do semáforo - fiscalização eletrônica",
          "Conduzir motoc/moton/ciclomotor fazendo malabarismo/equilibrando-se em uma roda",
          "Conduzir motocicleta, motoneta e ciclomotor com os faróis apagados",
          "Conduzir motocicleta, motoneta e ciclomotor sem capacete de segurança",
          "Conduzir motocicleta/motoneta/ciclomotor sem segurar o guidom com ambas as mãos",
          "Conduzir o veículo c/ equip do sistema de iluminação e de sinalização alterados",
          "Conduzir o veículo com a cor alterada",
          "Conduzir o veículo com característica alterada",
          "Conduzir o veículo com descarga livre",
          "Conduzir o veículo com equip obrigatório em desacordo com o estab pelo Contran",
          "Conduzir o veículo com equipamento obrigatório ineficiente/inoperante",
          "Conduzir o veículo com equipamento ou acessório proibido",
          "Conduzir o veículo com o lacre de identificação violado/falsificado",
          "Conduzir o veículo com qualquer uma das placas sem legibilidade e visibilidade",
          "Conduzir o veículo com silenciador de motor defeituoso/deficiente/inoperante",
          "Conduzir o veículo em mau estado de conservação, comprometendo a segurança",
          "Conduzir o veículo registrado que não esteja devidamente licenciado",
          "Conduzir o veículo sem equipamento obrigatório",
          "Conduzir o veículo sem qualquer uma das placas de identificação",
          "Conduzir o veículo transportando passageiros em compartimento de carga",
          "Conduzir veíc c/ defeito no sist de iluminação, sinaliz ou lâmpadas queimadas",
          "Conduzir veíc com vidro total/parcialmente coberto por película, painéis/pintura",
          "Conduzir veículo sem os documentos de porte obrigatório referidos no CTB",
          "Deixar de conservar nas faixas da direita o veículo lento e de maior porte",
          "Deixar de conservar o veículo na faixa a ele destinada pela sinalização de regul",
          "Deixar de dar passagem a veículo de polícia em serviço de urgência devidamente identificado",
          "Deixar de dar passagem a veículos de operação e fiscalização de trânsito devidamente identificados",
          "Deixar de dar passagem pela esquerda quando solicitado",
          "Deixar de dar preferência a pedestre/veic ñ mot que ñ haja concluído a travessia",
          "Deixar de dar preferência a pedestre/veic ñ motorizado na faixa a ele destinada",
          "Deixar de dar preferência nas interseções com sinalização de Dê a Preferência",
          "Deixar de deslocar c/antecedência veíc p/ faixa mais à direita qdo for manobrar",
          "Deixar de deslocar c/antecedência veíc p/ faixa mais à esquerda qdo for manobrar",
          "Deixar de guardar distância de segurança lateral e frontal entre seu veículo e os demais bem como em relação ao bordo da pista",
          "Deixar de indicar c/ antec, med gesto de braço/luz indicadora, início da marcha",
          "Deixar de indicar c/ antec, med gesto de braço/luz indicadora, manobra de parar",
          "Deixar de indicar c/ antec, med gesto de braço/luz indicadora, mudança de faixa",
          "Deixar de indicar c/ antec, med gesto de braço/luz indicadora, mudança direção",
          "Deixar de parar no acostamento à direita, p/ cruzar pista ou entrar à esquerda",
          "Deixar de reduzir a veloc onde o trânsito esteja sendo controlado pelo agente",
          "Deixar de sinalizar a via p/ tornar visível o local qdo permanecer acostamento",
          "Deixar o condutor de usar o cinto segurança",
          "Deixar o passageiro de usar o cinto segurança",
          "Desobedecer às ordens emanadas da autorid compet de trânsito ou de seus agentes",
          "Dirigir ameaçando os demais veículos",
          "Dirigir ameaçando os pedestres que estejam atravessando a via pública",
          "Dirigir o veíc usando calçado que ñ se firme nos pés/comprometa utiliz pedais",
          "Dirigir o veículo com apenas uma das mãos, exceto quando permitido pelo CTB",
          "Dirigir o veículo com o braço do lado de fora",
          "Dirigir o veículo transport animais à sua esquerda ou entre os braços e pernas",
          "Dirigir o veículo transport volume à sua esquerda ou entre os braços e pernas",
          "Dirigir o veículo utilizando-se de fones nos ouvidos conec a aparelhagem sonora",
          "Dirigir sem atenção ou sem os cuidados indispensáveis à segurança",
          "Dirigir sob a influência de álcool",
          "Dirigir veículo com CNH de categoria diferente da do veículo",
          "Dirigir veículo com validade de CNH/PPD vencida há mais de 30 dias",
          "Dirigir veículo manuseando telefone celular",
          "Dirigir veículo segurando telefone celular",
          "Dirigir veículo sem possuir CNH/PPD/ACC",
          "Dirigir veículo utilizando-se de telefone celular",
          "Em mov deixar de manter acesas luzes de posição sob chuva forte/neblina/cerração",
          "Em movimento, deixar de manter a placa traseira iluminada à noite",
          "Em movimento, deixar de manter acesa a luz baixa durante à noite",
          "Em movimento, deixar de manter acesa luz baixa do ciclomotor",
          "Estacionar ao lado ou sobre gramado ou jardim público",
          "Estacionar ao lado ou sobre marcas de canalização",
          "Estacionar em desacordo com a regulamentação especificada pela sinalização",
          "Estacionar em desacordo com as posições estabelecidas no CTB",
          "Estacionar em local/horário proibido especificamente pela sinalização",
          "Estacionar impedindo a movimentação de outro veículo",
          "Estacionar local/horário de estacionamento e parada proibidos pela sinalização",
          "Estacionar na contramão de direção",
          "Estacionar na pista de rolamento das estradas",
          "Estacionar na pista de rolamento das rodovias",
          "Estacionar nas vagas reserv a idosos, s/ credencial",
          "Estacionar nas vagas reserv às pess c/ deficiência, s/ credencial",
          "Estacionar no ponto de embarque/desembarque de passageiros transporte coletivo",
          "Estacionar nos acostamentos",
          "Estacionar sobre ciclovia ou ciclofaixa",
          "Estacionar sobre faixa destinada a pedestre",
          "Executar operação de conversão à direita em local proibido pela sinalização",
          "Executar operação de conversão à esquerda em local proibido pela sinalização",
          "Executar operação de retorno em locais proibidos pela sinalização",
          "Executar operação de retorno passando por cima de canteiro de divisor de pista",
          "Executar operação de retorno passando por cima de ilha, refúgio",
          "Executar retorno c/prejuízo da circulação/segurança ainda que em local permitido",
          "Fazer uso do facho de luz alta dos faróis em vias providas de iluminação pública",
          "Forçar passagem entre veícs trans sent opostos na iminência realiz ultrapassagem",
          "Parar na pista de rolamento das rodovias",
          "Permitir posse/condução do veículo a pessoa sem CNH/PPD/ACC",
          "Portar no veículo placas de identificação em desacordo c/ especif/modelo Contran",
          "Recusar-se a entregar CNH/CRV/CRLV/ outros documentos",
          "Recusar-se a ser submetido a teste, exame clínico, perícia ou outro procedimento que permita certificar influência de álcool ou outra substância psicoativa, na forma estabelecida pelo art. 277.",
          "Retirar do local veículo legalmente retido para regularização, sem permissão",
          "Transitar com farol desregulado perturbando visão outro condutor",
          "Transitar com o facho de luz alta perturbando visão outro condutor",
          "Transitar com o veículo em acostamentos",
          "Transitar com o veículo em ajardinamentos, gramados, jardins públicos",
          "Transitar com o veículo em calçadas, passeios",
          "Transitar com o veículo em canteiros centrais/divisores de pista de rolamento",
          "Transitar com o veículo em ciclovias, ciclofaixas",
          "Transitar com o veículo em ilhas, refúgios",
          "Transitar com o veículo em marcas de canalização",
          "Transitar com veículo derramando a carga que esteja transportando",
          "Transitar em local/horário não permitido pela regul estabelecida p/ autoridade",
          "Transitar em local/horário não permitido pela regulamentação - caminhão",
          "Transitar em marcha ré, salvo na distância necessária a pequenas manobras",
          "Transitar em velocidade superior à máxima permitida em até 20%",
          "Transitar em velocidade superior à máxima permitida em mais de 20% até 50%",
          "Transitar em velocidade superior à máxima permitida em mais de 50%",
          "Transitar na faixa ou via exclusiva regulam. p/ transp. públ. coletivo passag.",
          "Transitar na faixa/pista da direita regul circulação exclusiva determ veículo",
          "Transitar na faixa/pista da esquerda regul circulação exclusiva determ veículo",
          "Transitar pela contramão de direção em via c/ sinalização de regul sentido único",
          "Transitar pela contramão de direção em via com duplo sentido de circulação",
          "Transpor bloqueio viário com ou sem sinalização ou dispositivos auxiliares",
          "Transpor bloqueio viário policial",
          "Transportar criança sem observância das normas de segurança estabelecidas p/ CTB",
          "Ultrapassar pela contramão linha de divisão de fluxos opostos, contínua amarela",
          "Ultrapassar pela contramão nas curvas sem visibilidade suficiente",
          "Ultrapassar pela direita, salvo qdo veíc da frente der sinal p/ entrar esquerda",
          "Ultrapassar pelo acostamento",
          "Ultrapassar veículos motorizados em fila, parados em razão de sinal luminoso",
          "Usar buzina prolongada e sucessivamente a qualquer pretexto",
          "Usar buzina que não a de toque breve como advertência a pedestre ou condutores",
          "Usar no veículo equip c/ som em volume/freqüência não autorizados pelo Contran",
          "Utilizar o pisca-alerta, exceto em imobilizações ou situações de emergência",
          "Utilizar-se de veículo para demonstrar ou exibir manobra perigosa mediante arrancada brusca",
          "Utilizar-se de veículo para demostrar ou exibir manobra perigosa mediante derrapagem ou frenagem com deslizamento ou arrastamento de pneus"
         ],
         "labels": [
          "Atirar do veículo objetos ou substâncias",
          "Avançar o sinal de parada obrigatória",
          "Avançar o sinal vermelho do semáforo",
          "Avançar o sinal vermelho do semáforo - fiscalização eletrônica",
          "Conduzir motoc/moton/ciclomotor fazendo malabarismo/equilibrando-se em uma roda",
          "Conduzir motocicleta, motoneta e ciclomotor com os faróis apagados",
          "Conduzir motocicleta, motoneta e ciclomotor sem capacete de segurança",
          "Conduzir motocicleta/motoneta/ciclomotor sem segurar o guidom com ambas as mãos",
          "Conduzir o veículo c/ equip do sistema de iluminação e de sinalização alterados",
          "Conduzir o veículo com a cor alterada",
          "Conduzir o veículo com característica alterada",
          "Conduzir o veículo com descarga livre",
          "Conduzir o veículo com equip obrigatório em desacordo com o estab pelo Contran",
          "Conduzir o veículo com equipamento obrigatório ineficiente/inoperante",
          "Conduzir o veículo com equipamento ou acessório proibido",
          "Conduzir o veículo com o lacre de identificação violado/falsificado",
          "Conduzir o veículo com qualquer uma das placas sem legibilidade e visibilidade",
          "Conduzir o veículo com silenciador de motor defeituoso/deficiente/inoperante",
          "Conduzir o veículo em mau estado de conservação, comprometendo a segurança",
          "Conduzir o veículo registrado que não esteja devidamente licenciado",
          "Conduzir o veículo sem equipamento obrigatório",
          "Conduzir o veículo sem qualquer uma das placas de identificação",
          "Conduzir o veículo transportando passageiros em compartimento de carga",
          "Conduzir veíc c/ defeito no sist de iluminação, sinaliz ou lâmpadas queimadas",
          "Conduzir veíc com vidro total/parcialmente coberto por película, painéis/pintura",
          "Conduzir veículo sem os documentos de porte obrigatório referidos no CTB",
          "Deixar de conservar nas faixas da direita o veículo lento e de maior porte",
          "Deixar de conservar o veículo na faixa a ele destinada pela sinalização de regul",
          "Deixar de dar passagem a veículo de polícia em serviço de urgência devidamente identificado",
          "Deixar de dar passagem a veículos de operação e fiscalização de trânsito devidamente identificados",
          "Deixar de dar passagem pela esquerda quando solicitado",
          "Deixar de dar preferência a pedestre/veic ñ mot que ñ haja concluído a travessia",
          "Deixar de dar preferência a pedestre/veic ñ motorizado na faixa a ele destinada",
          "Deixar de dar preferência nas interseções com sinalização de Dê a Preferência",
          "Deixar de deslocar c/antecedência veíc p/ faixa mais à direita qdo for manobrar",
          "Deixar de deslocar c/antecedência veíc p/ faixa mais à esquerda qdo for manobrar",
          "Deixar de guardar distância de segurança lateral e frontal entre seu veículo e os demais bem como em relação ao bordo da pista",
          "Deixar de indicar c/ antec, med gesto de braço/luz indicadora, início da marcha",
          "Deixar de indicar c/ antec, med gesto de braço/luz indicadora, manobra de parar",
          "Deixar de indicar c/ antec, med gesto de braço/luz indicadora, mudança de faixa",
          "Deixar de indicar c/ antec, med gesto de braço/luz indicadora, mudança direção",
          "Deixar de parar no acostamento à direita, p/ cruzar pista ou entrar à esquerda",
          "Deixar de reduzir a veloc onde o trânsito esteja sendo controlado pelo agente",
          "Deixar de sinalizar a via p/ tornar visível o local qdo permanecer acostamento",
          "Deixar o condutor de usar o cinto segurança",
          "Deixar o passageiro de usar o cinto segurança",
          "Desobedecer às ordens emanadas da autorid compet de trânsito ou de seus agentes",
          "Dirigir ameaçando os demais veículos",
          "Dirigir ameaçando os pedestres que estejam atravessando a via pública",
          "Dirigir o veíc usando calçado que ñ se firme nos pés/comprometa utiliz pedais",
          "Dirigir o veículo com apenas uma das mãos, exceto quando permitido pelo CTB",
          "Dirigir o veículo com o braço do lado de fora",
          "Dirigir o veículo transport animais à sua esquerda ou entre os braços e pernas",
          "Dirigir o veículo transport volume à sua esquerda ou entre os braços e pernas",
          "Dirigir o veículo utilizando-se de fones nos ouvidos conec a aparelhagem sonora",
          "Dirigir sem atenção ou sem os cuidados indispensáveis à segurança",
          "Dirigir sob a influência de álcool",
          "Dirigir veículo com CNH de categoria diferente da do veículo",
          "Dirigir veículo com validade de CNH/PPD vencida há mais de 30 dias",
          "Dirigir veículo manuseando telefone celular",
          "Dirigir veículo segurando telefone celular",
          "Dirigir veículo sem possuir CNH/PPD/ACC",
          "Dirigir veículo utilizando-se de telefone celular",
          "Em mov deixar de manter acesas luzes de posição sob chuva forte/neblina/cerração",
          "Em movimento, deixar de manter a placa traseira iluminada à noite",
          "Em movimento, deixar de manter acesa a luz baixa durante à noite",
          "Em movimento, deixar de manter acesa luz baixa do ciclomotor",
          "Estacionar ao lado ou sobre gramado ou jardim público",
          "Estacionar ao lado ou sobre marcas de canalização",
          "Estacionar em desacordo com a regulamentação especificada pela sinalização",
          "Estacionar em desacordo com as posições estabelecidas no CTB",
          "Estacionar em local/horário proibido especificamente pela sinalização",
          "Estacionar impedindo a movimentação de outro veículo",
          "Estacionar local/horário de estacionamento e parada proibidos pela sinalização",
          "Estacionar na contramão de direção",
          "Estacionar na pista de rolamento das estradas",
          "Estacionar na pista de rolamento das rodovias",
          "Estacionar nas vagas reserv a idosos, s/ credencial",
          "Estacionar nas vagas reserv às pess c/ deficiência, s/ credencial",
          "Estacionar no ponto de embarque/desembarque de passageiros transporte coletivo",
          "Estacionar nos acostamentos",
          "Estacionar sobre ciclovia ou ciclofaixa",
          "Estacionar sobre faixa destinada a pedestre",
          "Executar operação de conversão à direita em local proibido pela sinalização",
          "Executar operação de conversão à esquerda em local proibido pela sinalização",
          "Executar operação de retorno em locais proibidos pela sinalização",
          "Executar operação de retorno passando por cima de canteiro de divisor de pista",
          "Executar operação de retorno passando por cima de ilha, refúgio",
          "Executar retorno c/prejuízo da circulação/segurança ainda que em local permitido",
          "Fazer uso do facho de luz alta dos faróis em vias providas de iluminação pública",
          "Forçar passagem entre veícs trans sent opostos na iminência realiz ultrapassagem",
          "Parar na pista de rolamento das rodovias",
          "Permitir posse/condução do veículo a pessoa sem CNH/PPD/ACC",
          "Portar no veículo placas de identificação em desacordo c/ especif/modelo Contran",
          "Recusar-se a entregar CNH/CRV/CRLV/ outros documentos",
          "Recusar-se a ser submetido a teste, exame clínico, perícia ou outro procedimento que permita certificar influência de álcool ou outra substância psicoativa, na forma estabelecida pelo art. 277.",
          "Retirar do local veículo legalmente retido para regularização, sem permissão",
          "Transitar com farol desregulado perturbando visão outro condutor",
          "Transitar com o facho de luz alta perturbando visão outro condutor",
          "Transitar com o veículo em acostamentos",
          "Transitar com o veículo em ajardinamentos, gramados, jardins públicos",
          "Transitar com o veículo em calçadas, passeios",
          "Transitar com o veículo em canteiros centrais/divisores de pista de rolamento",
          "Transitar com o veículo em ciclovias, ciclofaixas",
          "Transitar com o veículo em ilhas, refúgios",
          "Transitar com o veículo em marcas de canalização",
          "Transitar com veículo derramando a carga que esteja transportando",
          "Transitar em local/horário não permitido pela regul estabelecida p/ autoridade",
          "Transitar em local/horário não permitido pela regulamentação - caminhão",
          "Transitar em marcha ré, salvo na distância necessária a pequenas manobras",
          "Transitar em velocidade superior à máxima permitida em até 20%",
          "Transitar em velocidade superior à máxima permitida em mais de 20% até 50%",
          "Transitar em velocidade superior à máxima permitida em mais de 50%",
          "Transitar na faixa ou via exclusiva regulam. p/ transp. públ. coletivo passag.",
          "Transitar na faixa/pista da direita regul circulação exclusiva determ veículo",
          "Transitar na faixa/pista da esquerda regul circulação exclusiva determ veículo",
          "Transitar pela contramão de direção em via c/ sinalização de regul sentido único",
          "Transitar pela contramão de direção em via com duplo sentido de circulação",
          "Transpor bloqueio viário com ou sem sinalização ou dispositivos auxiliares",
          "Transpor bloqueio viário policial",
          "Transportar criança sem observância das normas de segurança estabelecidas p/ CTB",
          "Ultrapassar pela contramão linha de divisão de fluxos opostos, contínua amarela",
          "Ultrapassar pela contramão nas curvas sem visibilidade suficiente",
          "Ultrapassar pela direita, salvo qdo veíc da frente der sinal p/ entrar esquerda",
          "Ultrapassar pelo acostamento",
          "Ultrapassar veículos motorizados em fila, parados em razão de sinal luminoso",
          "Usar buzina prolongada e sucessivamente a qualquer pretexto",
          "Usar buzina que não a de toque breve como advertência a pedestre ou condutores",
          "Usar no veículo equip c/ som em volume/freqüência não autorizados pelo Contran",
          "Utilizar o pisca-alerta, exceto em imobilizações ou situações de emergência",
          "Utilizar-se de veículo para demonstrar ou exibir manobra perigosa mediante arrancada brusca",
          "Utilizar-se de veículo para demostrar ou exibir manobra perigosa mediante derrapagem ou frenagem com deslizamento ou arrastamento de pneus"
         ],
         "name": "",
         "parents": [
          "",
          "",
          "",
          "",
          "",
          "",
          "",
          "",
          "",
          "",
          "",
          "",
          "",
          "",
          "",
          "",
          "",
          "",
          "",
          "",
          "",
          "",
          "",
          "",
          "",
          "",
          "",
          "",
          "",
          "",
          "",
          "",
          "",
          "",
          "",
          "",
          "",
          "",
          "",
          "",
          "",
          "",
          "",
          "",
          "",
          "",
          "",
          "",
          "",
          "",
          "",
          "",
          "",
          "",
          "",
          "",
          "",
          "",
          "",
          "",
          "",
          "",
          "",
          "",
          "",
          "",
          "",
          "",
          "",
          "",
          "",
          "",
          "",
          "",
          "",
          "",
          "",
          "",
          "",
          "",
          "",
          "",
          "",
          "",
          "",
          "",
          "",
          "",
          "",
          "",
          "",
          "",
          "",
          "",
          "",
          "",
          "",
          "",
          "",
          "",
          "",
          "",
          "",
          "",
          "",
          "",
          "",
          "",
          "",
          "",
          "",
          "",
          "",
          "",
          "",
          "",
          "",
          "",
          "",
          "",
          "",
          "",
          "",
          "",
          "",
          "",
          "",
          "",
          "",
          "",
          "",
          ""
         ],
         "type": "treemap",
         "values": [
          7,
          4,
          37,
          409,
          4,
          12,
          2,
          6,
          44,
          1,
          25,
          2,
          1,
          30,
          1,
          2,
          20,
          6,
          20,
          108,
          9,
          12,
          2,
          1876,
          7,
          2,
          286,
          5,
          2,
          2,
          14,
          1,
          66,
          2,
          34,
          7,
          41,
          1,
          1,
          236,
          185,
          15,
          5,
          1,
          1196,
          406,
          10,
          2,
          1,
          37,
          26,
          26,
          4,
          2,
          19,
          362,
          13,
          6,
          32,
          1122,
          972,
          60,
          273,
          16,
          132,
          303,
          1,
          3,
          1,
          1,
          1,
          2,
          1,
          13,
          1,
          1,
          134,
          1,
          2,
          10,
          64,
          1,
          3,
          6,
          138,
          17,
          2,
          1,
          1,
          12,
          6,
          4,
          9,
          4,
          1,
          51,
          1,
          3,
          1,
          18,
          2,
          2,
          2,
          1,
          161,
          43,
          3,
          16,
          3,
          4,
          32109,
          3075,
          500,
          142,
          6970,
          86,
          11,
          5,
          33,
          3,
          9,
          308,
          1,
          27,
          11,
          3,
          1,
          2,
          58,
          2,
          1,
          3
         ]
        }
       ],
       "layout": {
        "legend": {
         "tracegroupgap": 0
        },
        "margin": {
         "t": 60
        },
        "template": {
         "data": {
          "bar": [
           {
            "error_x": {
             "color": "#2a3f5f"
            },
            "error_y": {
             "color": "#2a3f5f"
            },
            "marker": {
             "line": {
              "color": "#E5ECF6",
              "width": 0.5
             }
            },
            "type": "bar"
           }
          ],
          "barpolar": [
           {
            "marker": {
             "line": {
              "color": "#E5ECF6",
              "width": 0.5
             }
            },
            "type": "barpolar"
           }
          ],
          "carpet": [
           {
            "aaxis": {
             "endlinecolor": "#2a3f5f",
             "gridcolor": "white",
             "linecolor": "white",
             "minorgridcolor": "white",
             "startlinecolor": "#2a3f5f"
            },
            "baxis": {
             "endlinecolor": "#2a3f5f",
             "gridcolor": "white",
             "linecolor": "white",
             "minorgridcolor": "white",
             "startlinecolor": "#2a3f5f"
            },
            "type": "carpet"
           }
          ],
          "choropleth": [
           {
            "colorbar": {
             "outlinewidth": 0,
             "ticks": ""
            },
            "type": "choropleth"
           }
          ],
          "contour": [
           {
            "colorbar": {
             "outlinewidth": 0,
             "ticks": ""
            },
            "colorscale": [
             [
              0,
              "#0d0887"
             ],
             [
              0.1111111111111111,
              "#46039f"
             ],
             [
              0.2222222222222222,
              "#7201a8"
             ],
             [
              0.3333333333333333,
              "#9c179e"
             ],
             [
              0.4444444444444444,
              "#bd3786"
             ],
             [
              0.5555555555555556,
              "#d8576b"
             ],
             [
              0.6666666666666666,
              "#ed7953"
             ],
             [
              0.7777777777777778,
              "#fb9f3a"
             ],
             [
              0.8888888888888888,
              "#fdca26"
             ],
             [
              1,
              "#f0f921"
             ]
            ],
            "type": "contour"
           }
          ],
          "contourcarpet": [
           {
            "colorbar": {
             "outlinewidth": 0,
             "ticks": ""
            },
            "type": "contourcarpet"
           }
          ],
          "heatmap": [
           {
            "colorbar": {
             "outlinewidth": 0,
             "ticks": ""
            },
            "colorscale": [
             [
              0,
              "#0d0887"
             ],
             [
              0.1111111111111111,
              "#46039f"
             ],
             [
              0.2222222222222222,
              "#7201a8"
             ],
             [
              0.3333333333333333,
              "#9c179e"
             ],
             [
              0.4444444444444444,
              "#bd3786"
             ],
             [
              0.5555555555555556,
              "#d8576b"
             ],
             [
              0.6666666666666666,
              "#ed7953"
             ],
             [
              0.7777777777777778,
              "#fb9f3a"
             ],
             [
              0.8888888888888888,
              "#fdca26"
             ],
             [
              1,
              "#f0f921"
             ]
            ],
            "type": "heatmap"
           }
          ],
          "heatmapgl": [
           {
            "colorbar": {
             "outlinewidth": 0,
             "ticks": ""
            },
            "colorscale": [
             [
              0,
              "#0d0887"
             ],
             [
              0.1111111111111111,
              "#46039f"
             ],
             [
              0.2222222222222222,
              "#7201a8"
             ],
             [
              0.3333333333333333,
              "#9c179e"
             ],
             [
              0.4444444444444444,
              "#bd3786"
             ],
             [
              0.5555555555555556,
              "#d8576b"
             ],
             [
              0.6666666666666666,
              "#ed7953"
             ],
             [
              0.7777777777777778,
              "#fb9f3a"
             ],
             [
              0.8888888888888888,
              "#fdca26"
             ],
             [
              1,
              "#f0f921"
             ]
            ],
            "type": "heatmapgl"
           }
          ],
          "histogram": [
           {
            "marker": {
             "colorbar": {
              "outlinewidth": 0,
              "ticks": ""
             }
            },
            "type": "histogram"
           }
          ],
          "histogram2d": [
           {
            "colorbar": {
             "outlinewidth": 0,
             "ticks": ""
            },
            "colorscale": [
             [
              0,
              "#0d0887"
             ],
             [
              0.1111111111111111,
              "#46039f"
             ],
             [
              0.2222222222222222,
              "#7201a8"
             ],
             [
              0.3333333333333333,
              "#9c179e"
             ],
             [
              0.4444444444444444,
              "#bd3786"
             ],
             [
              0.5555555555555556,
              "#d8576b"
             ],
             [
              0.6666666666666666,
              "#ed7953"
             ],
             [
              0.7777777777777778,
              "#fb9f3a"
             ],
             [
              0.8888888888888888,
              "#fdca26"
             ],
             [
              1,
              "#f0f921"
             ]
            ],
            "type": "histogram2d"
           }
          ],
          "histogram2dcontour": [
           {
            "colorbar": {
             "outlinewidth": 0,
             "ticks": ""
            },
            "colorscale": [
             [
              0,
              "#0d0887"
             ],
             [
              0.1111111111111111,
              "#46039f"
             ],
             [
              0.2222222222222222,
              "#7201a8"
             ],
             [
              0.3333333333333333,
              "#9c179e"
             ],
             [
              0.4444444444444444,
              "#bd3786"
             ],
             [
              0.5555555555555556,
              "#d8576b"
             ],
             [
              0.6666666666666666,
              "#ed7953"
             ],
             [
              0.7777777777777778,
              "#fb9f3a"
             ],
             [
              0.8888888888888888,
              "#fdca26"
             ],
             [
              1,
              "#f0f921"
             ]
            ],
            "type": "histogram2dcontour"
           }
          ],
          "mesh3d": [
           {
            "colorbar": {
             "outlinewidth": 0,
             "ticks": ""
            },
            "type": "mesh3d"
           }
          ],
          "parcoords": [
           {
            "line": {
             "colorbar": {
              "outlinewidth": 0,
              "ticks": ""
             }
            },
            "type": "parcoords"
           }
          ],
          "pie": [
           {
            "automargin": true,
            "type": "pie"
           }
          ],
          "scatter": [
           {
            "marker": {
             "colorbar": {
              "outlinewidth": 0,
              "ticks": ""
             }
            },
            "type": "scatter"
           }
          ],
          "scatter3d": [
           {
            "line": {
             "colorbar": {
              "outlinewidth": 0,
              "ticks": ""
             }
            },
            "marker": {
             "colorbar": {
              "outlinewidth": 0,
              "ticks": ""
             }
            },
            "type": "scatter3d"
           }
          ],
          "scattercarpet": [
           {
            "marker": {
             "colorbar": {
              "outlinewidth": 0,
              "ticks": ""
             }
            },
            "type": "scattercarpet"
           }
          ],
          "scattergeo": [
           {
            "marker": {
             "colorbar": {
              "outlinewidth": 0,
              "ticks": ""
             }
            },
            "type": "scattergeo"
           }
          ],
          "scattergl": [
           {
            "marker": {
             "colorbar": {
              "outlinewidth": 0,
              "ticks": ""
             }
            },
            "type": "scattergl"
           }
          ],
          "scattermapbox": [
           {
            "marker": {
             "colorbar": {
              "outlinewidth": 0,
              "ticks": ""
             }
            },
            "type": "scattermapbox"
           }
          ],
          "scatterpolar": [
           {
            "marker": {
             "colorbar": {
              "outlinewidth": 0,
              "ticks": ""
             }
            },
            "type": "scatterpolar"
           }
          ],
          "scatterpolargl": [
           {
            "marker": {
             "colorbar": {
              "outlinewidth": 0,
              "ticks": ""
             }
            },
            "type": "scatterpolargl"
           }
          ],
          "scatterternary": [
           {
            "marker": {
             "colorbar": {
              "outlinewidth": 0,
              "ticks": ""
             }
            },
            "type": "scatterternary"
           }
          ],
          "surface": [
           {
            "colorbar": {
             "outlinewidth": 0,
             "ticks": ""
            },
            "colorscale": [
             [
              0,
              "#0d0887"
             ],
             [
              0.1111111111111111,
              "#46039f"
             ],
             [
              0.2222222222222222,
              "#7201a8"
             ],
             [
              0.3333333333333333,
              "#9c179e"
             ],
             [
              0.4444444444444444,
              "#bd3786"
             ],
             [
              0.5555555555555556,
              "#d8576b"
             ],
             [
              0.6666666666666666,
              "#ed7953"
             ],
             [
              0.7777777777777778,
              "#fb9f3a"
             ],
             [
              0.8888888888888888,
              "#fdca26"
             ],
             [
              1,
              "#f0f921"
             ]
            ],
            "type": "surface"
           }
          ],
          "table": [
           {
            "cells": {
             "fill": {
              "color": "#EBF0F8"
             },
             "line": {
              "color": "white"
             }
            },
            "header": {
             "fill": {
              "color": "#C8D4E3"
             },
             "line": {
              "color": "white"
             }
            },
            "type": "table"
           }
          ]
         },
         "layout": {
          "annotationdefaults": {
           "arrowcolor": "#2a3f5f",
           "arrowhead": 0,
           "arrowwidth": 1
          },
          "coloraxis": {
           "colorbar": {
            "outlinewidth": 0,
            "ticks": ""
           }
          },
          "colorscale": {
           "diverging": [
            [
             0,
             "#8e0152"
            ],
            [
             0.1,
             "#c51b7d"
            ],
            [
             0.2,
             "#de77ae"
            ],
            [
             0.3,
             "#f1b6da"
            ],
            [
             0.4,
             "#fde0ef"
            ],
            [
             0.5,
             "#f7f7f7"
            ],
            [
             0.6,
             "#e6f5d0"
            ],
            [
             0.7,
             "#b8e186"
            ],
            [
             0.8,
             "#7fbc41"
            ],
            [
             0.9,
             "#4d9221"
            ],
            [
             1,
             "#276419"
            ]
           ],
           "sequential": [
            [
             0,
             "#0d0887"
            ],
            [
             0.1111111111111111,
             "#46039f"
            ],
            [
             0.2222222222222222,
             "#7201a8"
            ],
            [
             0.3333333333333333,
             "#9c179e"
            ],
            [
             0.4444444444444444,
             "#bd3786"
            ],
            [
             0.5555555555555556,
             "#d8576b"
            ],
            [
             0.6666666666666666,
             "#ed7953"
            ],
            [
             0.7777777777777778,
             "#fb9f3a"
            ],
            [
             0.8888888888888888,
             "#fdca26"
            ],
            [
             1,
             "#f0f921"
            ]
           ],
           "sequentialminus": [
            [
             0,
             "#0d0887"
            ],
            [
             0.1111111111111111,
             "#46039f"
            ],
            [
             0.2222222222222222,
             "#7201a8"
            ],
            [
             0.3333333333333333,
             "#9c179e"
            ],
            [
             0.4444444444444444,
             "#bd3786"
            ],
            [
             0.5555555555555556,
             "#d8576b"
            ],
            [
             0.6666666666666666,
             "#ed7953"
            ],
            [
             0.7777777777777778,
             "#fb9f3a"
            ],
            [
             0.8888888888888888,
             "#fdca26"
            ],
            [
             1,
             "#f0f921"
            ]
           ]
          },
          "colorway": [
           "#636efa",
           "#EF553B",
           "#00cc96",
           "#ab63fa",
           "#FFA15A",
           "#19d3f3",
           "#FF6692",
           "#B6E880",
           "#FF97FF",
           "#FECB52"
          ],
          "font": {
           "color": "#2a3f5f"
          },
          "geo": {
           "bgcolor": "white",
           "lakecolor": "white",
           "landcolor": "#E5ECF6",
           "showlakes": true,
           "showland": true,
           "subunitcolor": "white"
          },
          "hoverlabel": {
           "align": "left"
          },
          "hovermode": "closest",
          "mapbox": {
           "style": "light"
          },
          "paper_bgcolor": "white",
          "plot_bgcolor": "#E5ECF6",
          "polar": {
           "angularaxis": {
            "gridcolor": "white",
            "linecolor": "white",
            "ticks": ""
           },
           "bgcolor": "#E5ECF6",
           "radialaxis": {
            "gridcolor": "white",
            "linecolor": "white",
            "ticks": ""
           }
          },
          "scene": {
           "xaxis": {
            "backgroundcolor": "#E5ECF6",
            "gridcolor": "white",
            "gridwidth": 2,
            "linecolor": "white",
            "showbackground": true,
            "ticks": "",
            "zerolinecolor": "white"
           },
           "yaxis": {
            "backgroundcolor": "#E5ECF6",
            "gridcolor": "white",
            "gridwidth": 2,
            "linecolor": "white",
            "showbackground": true,
            "ticks": "",
            "zerolinecolor": "white"
           },
           "zaxis": {
            "backgroundcolor": "#E5ECF6",
            "gridcolor": "white",
            "gridwidth": 2,
            "linecolor": "white",
            "showbackground": true,
            "ticks": "",
            "zerolinecolor": "white"
           }
          },
          "shapedefaults": {
           "line": {
            "color": "#2a3f5f"
           }
          },
          "ternary": {
           "aaxis": {
            "gridcolor": "white",
            "linecolor": "white",
            "ticks": ""
           },
           "baxis": {
            "gridcolor": "white",
            "linecolor": "white",
            "ticks": ""
           },
           "bgcolor": "#E5ECF6",
           "caxis": {
            "gridcolor": "white",
            "linecolor": "white",
            "ticks": ""
           }
          },
          "title": {
           "x": 0.05
          },
          "xaxis": {
           "automargin": true,
           "gridcolor": "white",
           "linecolor": "white",
           "ticks": "",
           "title": {
            "standoff": 15
           },
           "zerolinecolor": "white",
           "zerolinewidth": 2
          },
          "yaxis": {
           "automargin": true,
           "gridcolor": "white",
           "linecolor": "white",
           "ticks": "",
           "title": {
            "standoff": 15
           },
           "zerolinecolor": "white",
           "zerolinewidth": 2
          }
         }
        }
       }
      }
     },
     "metadata": {}
    }
   ],
   "source": [
    "#treemap por tipo de infracao\n",
    "df_infracoes_abril_tp_infracao = df_infracoes_abril.groupby(['tipo_infracao', 'descricao'],  as_index=False).count()\n",
    "df_infracoes_abril_tp_infracao['all'] = 'all'\n",
    "fig = px.treemap( df_infracoes_abril_tp_infracao, path=[df_infracoes_abril_tp_infracao['descricao'].to_list()], values=df_infracoes_abril_tp_infracao['grav_tipo'].to_list())\n",
    "fig.show()"
   ]
  }
 ],
 "metadata": {
  "kernelspec": {
   "display_name": "Python 3.8.2 64-bit",
   "language": "python",
   "name": "python38264bit041ee22741494048a97c8f1b1a2333d1"
  },
  "language_info": {
   "codemirror_mode": {
    "name": "ipython",
    "version": 3
   },
   "file_extension": ".py",
   "mimetype": "text/x-python",
   "name": "python",
   "nbconvert_exporter": "python",
   "pygments_lexer": "ipython3",
   "version": "3.8.2-final"
  }
 },
 "nbformat": 4,
 "nbformat_minor": 4
}